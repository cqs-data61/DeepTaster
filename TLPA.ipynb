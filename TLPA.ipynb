{
 "cells": [
  {
   "cell_type": "code",
   "execution_count": null,
   "id": "664a4c12",
   "metadata": {},
   "outputs": [],
   "source": [
    "# Runtime is about 2.5 hours"
   ]
  },
  {
   "cell_type": "code",
   "execution_count": null,
   "id": "2990e1d9",
   "metadata": {},
   "outputs": [],
   "source": [
    "import numpy as np\n",
    "import os\n",
    "import torch\n",
    "import torch.optim as optim\n",
    "import torchvision\n",
    "import torchvision.datasets as datasets\n",
    "import torchvision.transforms as transforms\n",
    "from torch import nn\n",
    "from sklearn.model_selection import StratifiedShuffleSplit\n",
    "from torch.utils.data import DataLoader, TensorDataset, Dataset, Subset\n",
    "from torch.optim import lr_scheduler\n",
    "from torch.autograd import Variable\n",
    "from torchvision import transforms as T\n",
    "from torchvision.transforms import ToTensor \n",
    "from utils.train import train_model,set_dataset, set_architecture"
   ]
  },
  {
   "cell_type": "code",
   "execution_count": null,
   "id": "a1a15b31",
   "metadata": {},
   "outputs": [],
   "source": [
    "# os.environ['CUDA_LAUNCH_BLOCKING'] = \"1\"\n",
    "# os.environ[\"CUDA_VISIBLE_DEVICES\"] = \"3\""
   ]
  },
  {
   "cell_type": "code",
   "execution_count": null,
   "id": "1f4187ca",
   "metadata": {},
   "outputs": [],
   "source": [
    "device = torch.device('cuda' if torch.cuda.is_available() else 'cpu')"
   ]
  },
  {
   "cell_type": "code",
   "execution_count": null,
   "id": "cc368622",
   "metadata": {},
   "outputs": [],
   "source": [
    "train_data, test_data, class_num = set_dataset(\"MNIST\")"
   ]
  },
  {
   "cell_type": "code",
   "execution_count": null,
   "id": "eab582df",
   "metadata": {},
   "outputs": [],
   "source": [
    "train_data_cifar, test_data_cifar, class_num_cifar = set_dataset(\"cifar10\")"
   ]
  },
  {
   "cell_type": "code",
   "execution_count": null,
   "id": "75bc1e63",
   "metadata": {},
   "outputs": [],
   "source": [
    "batch_size = 128\n",
    "train_loader_cifar = torch.utils.data.DataLoader(\n",
    "                 dataset=train_data,\n",
    "                 batch_size=batch_size,\n",
    "                 shuffle=True)\n",
    "test_loader_cifar = torch.utils.data.DataLoader(\n",
    "                dataset=test_data,\n",
    "                batch_size=batch_size,\n",
    "                shuffle=True)"
   ]
  },
  {
   "cell_type": "code",
   "execution_count": null,
   "id": "bc86c6bc",
   "metadata": {},
   "outputs": [],
   "source": [
    "target_model = set_architecture('Resnet18',device, 10)"
   ]
  },
  {
   "cell_type": "code",
   "execution_count": null,
   "id": "7cf7cb3d",
   "metadata": {},
   "outputs": [],
   "source": [
    "#setting train hyper-parameter\n",
    "criterion = nn.CrossEntropyLoss()\n",
    "optimizer_ft = optim.SGD(target_model.parameters(), lr=0.1, momentum=0.9, weight_decay=5e-4)\n",
    "exp_lr_scheduler = lr_scheduler.StepLR(optimizer_ft, step_size=7, gamma=0.1)"
   ]
  },
  {
   "cell_type": "code",
   "execution_count": null,
   "id": "ef489d92",
   "metadata": {},
   "outputs": [],
   "source": [
    "if not os.path.exists(\"./models/attack_model/TLPA\"):\n",
    "    os.makedirs(\"./models/attack_model/TLPA\")\n",
    "for size in [10,30,50,70,90]:\n",
    "    target_model = set_architecture('Resnet18',device, 10)\n",
    "    target_model = target_model.to(device)\n",
    "    train_len=len(train_data)\n",
    "\n",
    "    sss = StratifiedShuffleSplit(n_splits=1, test_size=int(train_len*size/100), random_state=7)\n",
    "    indices = list(range(len(train_data)))\n",
    "    y_test= [y for _, y in train_data]\n",
    "\n",
    "    for test_index, val_index in sss.split(indices, y_test):\n",
    "        print(len(val_index), len(test_index))\n",
    "\n",
    "    val_ds = Subset(train_data, val_index)\n",
    "    test_ds = Subset(train_data, test_index)\n",
    "    batch_size = 128\n",
    "    train_loader = torch.utils.data.DataLoader(\n",
    "                     dataset=val_ds,\n",
    "                     batch_size=batch_size,\n",
    "                     shuffle=True)\n",
    "    test_loader = torch.utils.data.DataLoader(\n",
    "                    dataset=test_data,\n",
    "                    batch_size=batch_size,\n",
    "                    shuffle=True)\n",
    "   \n",
    "    model, acc = train_model(target_model, criterion, optimizer_ft, exp_lr_scheduler,device, train_loader, test_loader, 10)\n",
    "    ct = 0\n",
    "    for child in model.children():\n",
    "        ct += 1\n",
    "        if ct < 4:\n",
    "            for param in child.parameters():\n",
    "                param.requires_grad = False\n",
    "\n",
    "    #setting train hyper-parameter\n",
    "    criterion = nn.CrossEntropyLoss()\n",
    "    optimizer_ft = optim.SGD(model.parameters(), lr=0.1, momentum=0.9, weight_decay=5e-4)\n",
    "    exp_lr_scheduler = lr_scheduler.StepLR(optimizer_ft, step_size=7, gamma=0.1)\n",
    "    model = train_model(model, criterion, optimizer_ft, exp_lr_scheduler,device, train_loader_cifar, test_loader_ciafr, 10)\n",
    "    torch.save(model,  './models/attack_model/TLPA/TLPA_'+str(size)+'.pt')\n",
    "    acc_file=open('./models/attack_model/TLPA/TLPA_'+str(size)+'.txt','w')\n",
    "    acc_file.write(str(acc))\n",
    "    acc_file.close()"
   ]
  },
  {
   "cell_type": "code",
   "execution_count": null,
   "id": "bddc4fdf",
   "metadata": {},
   "outputs": [],
   "source": []
  },
  {
   "cell_type": "code",
   "execution_count": null,
   "id": "518fb4bf",
   "metadata": {},
   "outputs": [],
   "source": []
  }
 ],
 "metadata": {
  "kernelspec": {
   "display_name": "Python 3 (ipykernel)",
   "language": "python",
   "name": "python3"
  },
  "language_info": {
   "codemirror_mode": {
    "name": "ipython",
    "version": 3
   },
   "file_extension": ".py",
   "mimetype": "text/x-python",
   "name": "python",
   "nbconvert_exporter": "python",
   "pygments_lexer": "ipython3",
   "version": "3.7.10"
  }
 },
 "nbformat": 4,
 "nbformat_minor": 5
}
