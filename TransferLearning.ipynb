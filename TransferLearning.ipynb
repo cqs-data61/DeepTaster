{
 "cells": [
  {
   "cell_type": "code",
   "execution_count": null,
   "id": "fd5ded6d",
   "metadata": {},
   "outputs": [],
   "source": [
    "import numpy as np\n",
    "import os\n",
    "import torch\n",
    "import torch.optim as optim\n",
    "import torchvision\n",
    "import torchvision.datasets as datasets\n",
    "import torchvision.transforms as transforms\n",
    "from torch import nn\n",
    "from torch.utils.data import DataLoader, TensorDataset, Dataset, Subset\n",
    "from torch.optim import lr_scheduler\n",
    "from torch.autograd import Variable\n",
    "from torchvision import transforms as T\n",
    "from torchvision.transforms import ToTensor \n",
    "from utils.train import train_model,set_dataset"
   ]
  },
  {
   "cell_type": "code",
   "execution_count": null,
   "id": "90aeda3b",
   "metadata": {},
   "outputs": [],
   "source": [
    "device = torch.device('cuda' if torch.cuda.is_available() else 'cpu')"
   ]
  },
  {
   "cell_type": "code",
   "execution_count": null,
   "id": "5af93b65",
   "metadata": {},
   "outputs": [],
   "source": [
    "target_model = torch.load(\"./models/victims/Cifar10_Resnet18.pt\",map_location='cpu')\n",
    "target_model = target_model.to(device)"
   ]
  },
  {
   "cell_type": "code",
   "execution_count": null,
   "id": "b6f4d5f6",
   "metadata": {},
   "outputs": [],
   "source": [
    "ct = 0\n",
    "for child in target_model.children():\n",
    "  ct += 1\n",
    "  if ct < 3:\n",
    "      for param in child.parameters():\n",
    "          param.requires_grad = False"
   ]
  },
  {
   "cell_type": "code",
   "execution_count": null,
   "id": "1e1fa6c9",
   "metadata": {},
   "outputs": [],
   "source": [
    "#setting train hyper-parameter\n",
    "criterion = nn.CrossEntropyLoss()\n",
    "optimizer_ft = optim.SGD(target_model.parameters(), lr=0.1, momentum=0.9, weight_decay=5e-4)\n",
    "exp_lr_scheduler = lr_scheduler.StepLR(optimizer_ft, step_size=7, gamma=0.1)"
   ]
  },
  {
   "cell_type": "code",
   "execution_count": null,
   "id": "2f6c6752",
   "metadata": {},
   "outputs": [],
   "source": [
    "train_data, test_data, class_num = set_dataset(\"MNIST\")"
   ]
  },
  {
   "cell_type": "code",
   "execution_count": null,
   "id": "5be7742c",
   "metadata": {},
   "outputs": [],
   "source": [
    "batch_size = 128\n",
    "train_loader = torch.utils.data.DataLoader(\n",
    "                 dataset=train_data,\n",
    "                 batch_size=batch_size,\n",
    "                 shuffle=True)\n",
    "test_loader = torch.utils.data.DataLoader(\n",
    "                dataset=test_data,\n",
    "                batch_size=batch_size,\n",
    "                shuffle=True)"
   ]
  },
  {
   "cell_type": "code",
   "execution_count": null,
   "id": "3cbfd814",
   "metadata": {},
   "outputs": [],
   "source": [
    "for epochs in [20,40,60,80]:\n",
    "    model = train_model(target_model, criterion, optimizer_ft, exp_lr_scheduler,device, train_loader, test_loader, epochs)\n",
    "    torch.save(model,'./models/attack_model/Transfer_'+str(epochs)+'.pt')"
   ]
  },
  {
   "cell_type": "code",
   "execution_count": null,
   "id": "f405cd02",
   "metadata": {},
   "outputs": [],
   "source": []
  }
 ],
 "metadata": {
  "kernelspec": {
   "display_name": "Python 3 (ipykernel)",
   "language": "python",
   "name": "python3"
  },
  "language_info": {
   "codemirror_mode": {
    "name": "ipython",
    "version": 3
   },
   "file_extension": ".py",
   "mimetype": "text/x-python",
   "name": "python",
   "nbconvert_exporter": "python",
   "pygments_lexer": "ipython3",
   "version": "3.7.10"
  }
 },
 "nbformat": 4,
 "nbformat_minor": 5
}
