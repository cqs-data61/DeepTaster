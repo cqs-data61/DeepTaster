{
 "cells": [
  {
   "cell_type": "code",
   "execution_count": null,
   "id": "99019725",
   "metadata": {},
   "outputs": [],
   "source": [
    "import cv2\n",
    "import os\n",
    "import torch\n",
    "import gdown\n",
    "import random\n",
    "import easydict \n",
    "import numpy as np\n",
    "import torch.nn as nn\n",
    "import torch.nn.functional as F\n",
    "import tensorflow as tf\n",
    "import torchvision.datasets as dset\n",
    "from torch.utils import data\n",
    "from torch.utils.data import DataLoader\n",
    "from torchvision import datasets, transforms\n",
    "from sklearn.metrics import roc_auc_score\n",
    "from utils.deepsvdd import DeepSVDD_network, pretrain_autoencoder, TrainerDeepSVDD"
   ]
  },
  {
   "cell_type": "code",
   "execution_count": null,
   "id": "dfeee65e",
   "metadata": {},
   "outputs": [],
   "source": [
    "gdown.download('https://drive.google.com/uc?id=15h8EUZOb4qJHy5zE9JDCSCNW28I1xKKG','./images/attack_models.zip',quiet=False)"
   ]
  },
  {
   "cell_type": "code",
   "execution_count": null,
   "id": "8a6538c0",
   "metadata": {},
   "outputs": [],
   "source": [
    "os.system(\"unzip ./images/attack_models.zip -d ./\")"
   ]
  },
  {
   "cell_type": "code",
   "execution_count": null,
   "id": "b2dd4280",
   "metadata": {},
   "outputs": [],
   "source": []
  },
  {
   "cell_type": "code",
   "execution_count": null,
   "id": "dd50e2a5",
   "metadata": {},
   "outputs": [],
   "source": [
    "gdown.download('https://drive.google.com/uc?id=1pC3d0nrqB6OtjjN8sKtwI0ebV-RLzIAG','./models/attack_models.zip',quiet=False)"
   ]
  },
  {
   "cell_type": "code",
   "execution_count": null,
   "id": "6c287cd2",
   "metadata": {},
   "outputs": [],
   "source": [
    "os.system(\"unzip ./models/attack_models.zip -d ./\")"
   ]
  },
  {
   "cell_type": "code",
   "execution_count": null,
   "id": "280059d6",
   "metadata": {},
   "outputs": [],
   "source": []
  },
  {
   "cell_type": "code",
   "execution_count": null,
   "id": "0b97ff99",
   "metadata": {},
   "outputs": [],
   "source": [
    "gdown.download('https://drive.google.com/uc?id=1BpabkhBO7nMvZaVQN9ONbD4j7kHIa6Dc','./images/test.zip',quiet=False)"
   ]
  },
  {
   "cell_type": "code",
   "execution_count": null,
   "id": "302efa57",
   "metadata": {},
   "outputs": [],
   "source": [
    "os.system(\"unzip ./images/test.zip -d ./\")"
   ]
  },
  {
   "cell_type": "code",
   "execution_count": null,
   "id": "a6db9bc0",
   "metadata": {},
   "outputs": [],
   "source": []
  },
  {
   "cell_type": "code",
   "execution_count": null,
   "id": "70ef5361",
   "metadata": {},
   "outputs": [],
   "source": [
    "gdown.download('https://drive.google.com/uc?id=18BBdDEkr_0qSOrIkXDq9ZE95duXrZ4Wc','./images/train.zip',quiet=False)"
   ]
  },
  {
   "cell_type": "code",
   "execution_count": null,
   "id": "3ff24d3f",
   "metadata": {},
   "outputs": [],
   "source": [
    "os.system(\"unzip ./images/train.zip -d ./\")"
   ]
  },
  {
   "cell_type": "code",
   "execution_count": null,
   "id": "cda7fc06",
   "metadata": {},
   "outputs": [],
   "source": []
  },
  {
   "cell_type": "code",
   "execution_count": null,
   "id": "a925a9aa",
   "metadata": {},
   "outputs": [],
   "source": [
    "gdown.download('https://drive.google.com/uc?id=1MXVAC2lBrhOcmA7IphIlghsxSCuCBaao','./images/val.zip',quiet=False)"
   ]
  },
  {
   "cell_type": "code",
   "execution_count": null,
   "id": "f42bde75",
   "metadata": {},
   "outputs": [],
   "source": [
    "os.system(\"unzip ./images/val.zip -d ./\")"
   ]
  },
  {
   "cell_type": "code",
   "execution_count": null,
   "id": "af7b7973",
   "metadata": {},
   "outputs": [],
   "source": []
  },
  {
   "cell_type": "code",
   "execution_count": 8,
   "id": "6173a9d4",
   "metadata": {},
   "outputs": [],
   "source": [
    "# IMPORTANT\n",
    "# PLEASE CHANGE THE VAULUE OF DeepTaster_forder TO THE DEEPTASTER DIRECTORY \n",
    "Home_directory = '{}'\n",
    "DeepTaster_forder = Home_directory+\"/DeepTaster/\""
   ]
  },
  {
   "cell_type": "code",
   "execution_count": 9,
   "id": "7a3621af",
   "metadata": {},
   "outputs": [],
   "source": [
    "# Specify the cuda setting if you needed\n",
    "# os.environ['CUDA_LAUNCH_BLOCKING'] = \"1\"\n",
    "# os.environ[\"CUDA_VISIBLE_DEVICES\"] = \"2\"\n",
    "device = torch.device('cuda' if torch.cuda.is_available() else 'cpu')"
   ]
  },
  {
   "cell_type": "code",
   "execution_count": null,
   "id": "b742cbb2",
   "metadata": {},
   "outputs": [],
   "source": []
  },
  {
   "cell_type": "code",
   "execution_count": null,
   "id": "7a3eb967",
   "metadata": {},
   "outputs": [],
   "source": []
  },
  {
   "cell_type": "code",
   "execution_count": null,
   "id": "6eacd8e6",
   "metadata": {},
   "outputs": [],
   "source": [
    "# Generate Detection Classifier"
   ]
  },
  {
   "cell_type": "code",
   "execution_count": 26,
   "id": "15008782",
   "metadata": {},
   "outputs": [],
   "source": [
    "# load train adversarialDFT dataset\n",
    "dataset = dset.ImageFolder(root=DeepTaster_forder +'images/train',\n",
    "                            transform=transforms.Compose([\n",
    "                                transforms.Grayscale(),\n",
    "                                transforms.Resize(28),      \n",
    "                                transforms.CenterCrop(28), \n",
    "                                transforms.ToTensor(),    \n",
    "                            ]))\n",
    "\n",
    "train_dataloader = torch.utils.data.DataLoader(dataset,\n",
    "                                        batch_size=16,\n",
    "                                        shuffle=True,\n",
    "                                        num_workers=8)"
   ]
  },
  {
   "cell_type": "code",
   "execution_count": 27,
   "id": "d01ae38d",
   "metadata": {},
   "outputs": [],
   "source": [
    "# load test adversarialDFT dataset\n",
    "dataset = dset.ImageFolder(root=DeepTaster_forder +'images/val',\n",
    "                            transform=transforms.Compose([\n",
    "                                transforms.Grayscale(),\n",
    "                                transforms.Resize(28),      \n",
    "                                transforms.CenterCrop(28), \n",
    "                                transforms.ToTensor(),    \n",
    "                            ]))\n",
    "\n",
    "val_dataloader = torch.utils.data.DataLoader(dataset,\n",
    "                                        batch_size=16,\n",
    "                                        shuffle=False,\n",
    "                                        num_workers=8)"
   ]
  },
  {
   "cell_type": "code",
   "execution_count": 28,
   "id": "44517ace",
   "metadata": {},
   "outputs": [],
   "source": [
    "# Specify the cuda setting if you needed\n",
    "device = torch.device('cuda' if torch.cuda.is_available() else 'cpu')\n",
    "args = easydict.EasyDict({\n",
    "        'num_epochs':3,\n",
    "        'num_epochs_ae':40,\n",
    "        'lr':1e-3,\n",
    "        'lr_ae':1e-3,\n",
    "        'weight_decay':5e-7,\n",
    "        'weight_decay_ae':5e-3,\n",
    "        'lr_milestones':[50],\n",
    "        'batch_size':1024,\n",
    "        'pretrain':True,\n",
    "        'latent_dim':32,\n",
    "        'normal_class':0\n",
    "                })"
   ]
  },
  {
   "cell_type": "code",
   "execution_count": null,
   "id": "83a936b6",
   "metadata": {},
   "outputs": [],
   "source": [
    "deep_SVDD = TrainerDeepSVDD(args, train_dataloader,device, DeepTaster_forder +'models/classifier/pretrained.pth')\n",
    "if args.pretrain:\n",
    "    deep_SVDD.pretrain()\n",
    "net = DeepSVDD_network().to(device)\n",
    "state_dict = torch.load(DeepTaster_forder +'models/classifier/pretrained.pth')\n",
    "net.load_state_dict(state_dict['net_dict'])\n",
    "c = torch.Tensor(state_dict['center']).to(device)"
   ]
  },
  {
   "cell_type": "code",
   "execution_count": 30,
   "id": "cc5faafa",
   "metadata": {},
   "outputs": [],
   "source": [
    "optimizer = torch.optim.Adam(net.parameters(), lr=args.lr,\n",
    "                        weight_decay=args.weight_decay)\n",
    "scheduler = torch.optim.lr_scheduler.MultiStepLR(optimizer, \n",
    "            milestones=args.lr_milestones, gamma=0.1)\n"
   ]
  },
  {
   "cell_type": "code",
   "execution_count": null,
   "id": "3601303c",
   "metadata": {},
   "outputs": [],
   "source": [
    "net.train()\n",
    "for epoch in range(args.num_epochs):\n",
    "    total_loss = 0\n",
    "    for x, _ in train_dataloader:\n",
    "        x = x.float().to(device)\n",
    "\n",
    "        optimizer.zero_grad()\n",
    "        z = net(x)\n",
    "        loss = torch.mean(torch.sum((z - c) ** 2, dim=1))\n",
    "        loss.backward()\n",
    "        optimizer.step()\n",
    "\n",
    "        total_loss += loss.item()\n",
    "    scheduler.step()\n",
    "    print('Training Deep SVDD... Epoch: {}, Loss: {:.3f}'.format(\n",
    "            epoch+1, total_loss/len(train_dataloader)))"
   ]
  },
  {
   "cell_type": "code",
   "execution_count": 32,
   "id": "8557e3fe",
   "metadata": {},
   "outputs": [],
   "source": [
    "scores = []\n",
    "label = []\n",
    "net.eval()\n",
    "with torch.no_grad():\n",
    "    for x, y in val_dataloader:\n",
    "        x = x.float().to(device)\n",
    "        z = net(x)\n",
    "        score = torch.sum((z - c) ** 2, dim=1).cpu()\n",
    "        for i in range(16):\n",
    "            if y[i]==0:\n",
    "                scores.append(score[i])\n",
    "                label.append(0)\n",
    "            else:\n",
    "                scores.append(score[i])\n",
    "                label.append(1)     "
   ]
  },
  {
   "cell_type": "code",
   "execution_count": 33,
   "id": "986979c0",
   "metadata": {},
   "outputs": [],
   "source": [
    "scores.sort()"
   ]
  },
  {
   "cell_type": "code",
   "execution_count": 34,
   "id": "0a783a27",
   "metadata": {},
   "outputs": [],
   "source": [
    "threshold = float(scores[862])"
   ]
  },
  {
   "cell_type": "code",
   "execution_count": null,
   "id": "0eff8e9f",
   "metadata": {},
   "outputs": [],
   "source": [
    "print(\"threshold: \", threshold)\n",
    "threshold_file=open(DeepTaster_forder +'models/classifier/threshold.txt','w')\n",
    "threshold_file.write(str(threshold))\n",
    "threshold_file.close()\n",
    "torch.save(net, DeepTaster_forder +'models/classifier/deepsvdd.pt')"
   ]
  },
  {
   "cell_type": "code",
   "execution_count": null,
   "id": "7971934e",
   "metadata": {},
   "outputs": [],
   "source": []
  },
  {
   "cell_type": "code",
   "execution_count": null,
   "id": "da78b8c2",
   "metadata": {},
   "outputs": [],
   "source": []
  },
  {
   "cell_type": "code",
   "execution_count": null,
   "id": "5e1e893a",
   "metadata": {},
   "outputs": [],
   "source": [
    "# Evaluation all attack model"
   ]
  },
  {
   "cell_type": "code",
   "execution_count": 36,
   "id": "1971837d",
   "metadata": {},
   "outputs": [],
   "source": [
    "net = DeepSVDD_network().to(device)\n",
    "state_dict = torch.load(DeepTaster_forder +'models/classifier/pretrained.pth')\n",
    "c = torch.Tensor(state_dict['center']).to(device)\n",
    "net=torch.load(DeepTaster_forder +'models/classifier/deepsvdd.pt').to(device)\n",
    "threshold_file=open(DeepTaster_forder +'models/classifier/threshold.txt','r')\n",
    "threshold=float(threshold_file.readline())\n",
    "threshold_file.close()"
   ]
  },
  {
   "cell_type": "code",
   "execution_count": 37,
   "id": "6d514849",
   "metadata": {},
   "outputs": [],
   "source": [
    "# MAA"
   ]
  },
  {
   "cell_type": "code",
   "execution_count": 38,
   "id": "bc04948a",
   "metadata": {},
   "outputs": [],
   "source": [
    "dataset = dset.ImageFolder(root=DeepTaster_forder +'images/test',\n",
    "                            transform=transforms.Compose([\n",
    "                                transforms.Grayscale(),\n",
    "                                transforms.Resize(28),      \n",
    "                                transforms.CenterCrop(28), \n",
    "                                transforms.ToTensor(),    \n",
    "                            ]))\n",
    "\n",
    "test_dataloader = torch.utils.data.DataLoader(dataset,\n",
    "                                          batch_size=16,\n",
    "                                          shuffle=False,\n",
    "                                          num_workers=8)"
   ]
  },
  {
   "cell_type": "code",
   "execution_count": 39,
   "id": "f2c598a0",
   "metadata": {},
   "outputs": [
    {
     "name": "stdout",
     "output_type": "stream",
     "text": [
      "MAA results\n",
      "\n",
      "Victim          Suspect         Ground Truth    Architecture    Attack Prob.    Copy Detection (%)\n",
      "CIFAR10         CIFAR10         Stolen          DenseNet        1.0             100            \n",
      "CIFAR10         CIFAR10         Stolen          ResNet          1.0             100            \n",
      "CIFAR10         CIFAR10         Stolen          VGG             1.0             100            \n",
      "CIFAR10         MNIST           Benign          DenseNet        0.0             100            \n",
      "CIFAR10         MNIST           Benign          ResNet          0.0             100            \n",
      "CIFAR10         MNIST           Benign          VGG             0.0             100            \n",
      "CIFAR10         Tiny-ImageNet   Benign          DenseNet        0.05            100            \n",
      "CIFAR10         Tiny-ImageNet   Benign          ResNet          0.01            100            \n",
      "CIFAR10         Tiny-ImageNet   Benign          VGG             0.47            100            \n",
      "CIFAR10         ImageNet        Benign          DenseNet        0.0             100            \n",
      "CIFAR10         ImageNet        Benign          ResNet          0.0             100            \n",
      "CIFAR10         ImageNet        Benign          VGG             0.0             100            \n"
     ]
    }
   ],
   "source": [
    "net.eval()\n",
    "temp=0\n",
    "test=0\n",
    "attack_probability=0\n",
    "result_list = []\n",
    "detection_rate =[]\n",
    "architecture_list = [\"DenseNet\", \"ResNet\",\"VGG\"]\n",
    "dataset = [\"CIFAR10\", \"MNIST\",\"Tiny-ImageNet\",\"ImageNet\"]\n",
    "with torch.no_grad():\n",
    "    for x, y in test_dataloader:\n",
    "        x = x.float().to(device)\n",
    "        z = net(x)\n",
    "        score = torch.sum((z - c) ** 2, dim=1)\n",
    "        for i in range(16):\n",
    "          test+=1\n",
    "          temp+=1\n",
    "     \n",
    "          if score[i]<=threshold:\n",
    "            attack_probability+=1\n",
    "          if temp==288:\n",
    "            result_list.append(attack_probability)\n",
    "            if y[0]==0:\n",
    "                detection_rate.append(100 if attack_probability >=144 else 0)\n",
    "            else:\n",
    "                detection_rate.append(100 if attack_probability < 144 else 0)\n",
    "            temp=0\n",
    "            attack_probability=0\n",
    "\n",
    "print(\"MAA results\\n\")\n",
    "print('{:<15} {:<15} {:<15} {:<15} {:<15} {:<15}'.format(\"Victim\",\"Suspect\", \"Ground Truth\",\"Architecture\",\"Attack Prob.\",\"Copy Detection (%)\"))\n",
    "for i in range(3):\n",
    "    print('{:<15} {:<15} {:<15} {:<15} {:<15} {:<15}'.format(\"CIFAR10\", dataset[int(i/3)], \"Stolen\", architecture_list[i%3],round(result_list[i]/288,2), detection_rate[i] ))\n",
    "for i in range(3,12):\n",
    "    print('{:<15} {:<15} {:<15} {:<15} {:<15} {:<15}'.format(\"CIFAR10\", dataset[int(i/3)], \"Benign\", architecture_list[i%3],round(result_list[i]/288,2), detection_rate[i] ))\n"
   ]
  },
  {
   "cell_type": "code",
   "execution_count": 40,
   "id": "8769ee11",
   "metadata": {},
   "outputs": [],
   "source": [
    "#DAA"
   ]
  },
  {
   "cell_type": "code",
   "execution_count": 41,
   "id": "5466fe64",
   "metadata": {},
   "outputs": [],
   "source": [
    "dataset = dset.ImageFolder(root=DeepTaster_forder +'images/attack_models/DAA',\n",
    "                            transform=transforms.Compose([\n",
    "                                transforms.Grayscale(),\n",
    "                                transforms.Resize(28),      \n",
    "                                transforms.CenterCrop(28), \n",
    "                                transforms.ToTensor(),    \n",
    "                            ]))\n",
    "\n",
    "test_dataloader = torch.utils.data.DataLoader(dataset,\n",
    "                                          batch_size=16,\n",
    "                                          shuffle=False,\n",
    "                                          num_workers=8)"
   ]
  },
  {
   "cell_type": "code",
   "execution_count": 42,
   "id": "f4b8ac3a",
   "metadata": {},
   "outputs": [],
   "source": [
    "net.eval()\n",
    "temp=0\n",
    "test=0\n",
    "attack_probability=0\n",
    "result_list = []\n",
    "with torch.no_grad():\n",
    "    for x, y in test_dataloader:\n",
    "        x = x.float().to(device)\n",
    "        z = net(x)\n",
    "        score = torch.sum((z - c) ** 2, dim=1)\n",
    "        for i in range(16):\n",
    "          test+=1\n",
    "          temp+=1\n",
    "     \n",
    "          if score[i]<=threshold:\n",
    "            attack_probability+=1\n",
    "          if temp==288:\n",
    "            result_list.append(attack_probability)\n",
    "            temp=0\n",
    "            attack_probability=0"
   ]
  },
  {
   "cell_type": "code",
   "execution_count": 43,
   "id": "f00f9cf0",
   "metadata": {},
   "outputs": [
    {
     "name": "stdout",
     "output_type": "stream",
     "text": [
      "{'DAA_100': 0, 'DAA_20': 1, 'DAA_40': 2, 'DAA_60': 3, 'DAA_80': 4}\n"
     ]
    }
   ],
   "source": [
    "print(dataset.class_to_idx)"
   ]
  },
  {
   "cell_type": "code",
   "execution_count": 44,
   "id": "49255a34",
   "metadata": {},
   "outputs": [
    {
     "name": "stdout",
     "output_type": "stream",
     "text": [
      "DAA results\n",
      "\n",
      "Suspect         Ground Truth    Epochs          Model Acc.      Attack Prob.    Copy Detection (%)\n",
      "CIFAR10         Stolen          20              72.18           0.94            100            \n",
      "CIFAR10         Stolen          40              73.76           1.0             100            \n",
      "CIFAR10         Stolen          60              74.03           1.0             100            \n",
      "CIFAR10         Stolen          80              75.06           1.0             100            \n",
      "CIFAR10         Stolen          100             74.78           1.0             100            \n"
     ]
    }
   ],
   "source": [
    "print(\"DAA results\\n\")\n",
    "print('{:<15} {:<15} {:<15} {:<15} {:<15} {:<15}'.format(\"Suspect\", \"Ground Truth\",\"Epochs\",\"Model Acc.\",\"Attack Prob.\",\"Copy Detection (%)\"))\n",
    "epochs = [\"100\",\"20\",\"40\",\"60\",\"80\"]\n",
    "for i in [1,2,3,4,0]:\n",
    "    acc_file=open(Home_directory + '/DeepTaster4/models/attack_model/DAA/DAA_'+epochs[i]+'.txt','r')\n",
    "    acc=float(acc_file.readline()[7:13])*100\n",
    "    acc_file.close()\n",
    "    print('{:<15} {:<15} {:<15} {:<15} {:<15} {:<15}'.format('CIFAR10', \"Stolen\", epochs[i],round(acc,2), round(result_list[i]/288,2), 100 if result_list[i] >=144 else 0 ))\n"
   ]
  },
  {
   "cell_type": "code",
   "execution_count": 45,
   "id": "7155917e",
   "metadata": {},
   "outputs": [],
   "source": [
    "#SAA"
   ]
  },
  {
   "cell_type": "code",
   "execution_count": 46,
   "id": "e9c19e48",
   "metadata": {},
   "outputs": [],
   "source": [
    "dataset = dset.ImageFolder(root=DeepTaster_forder +'images/attack_models/SAA',\n",
    "                            transform=transforms.Compose([\n",
    "                                transforms.Grayscale(),\n",
    "                                transforms.Resize(28),      \n",
    "                                transforms.CenterCrop(28), \n",
    "                                transforms.ToTensor(),    \n",
    "                            ]))\n",
    "\n",
    "test_dataloader = torch.utils.data.DataLoader(dataset,\n",
    "                                          batch_size=16,\n",
    "                                          shuffle=False,\n",
    "                                          num_workers=8)"
   ]
  },
  {
   "cell_type": "code",
   "execution_count": 47,
   "id": "6798485f",
   "metadata": {},
   "outputs": [],
   "source": [
    "net.eval()\n",
    "temp=0\n",
    "test=0\n",
    "attack_probability=0\n",
    "result_list = []\n",
    "with torch.no_grad():\n",
    "    for x, y in test_dataloader:\n",
    "        x = x.float().to(device)\n",
    "        z = net(x)\n",
    "        score = torch.sum((z - c) ** 2, dim=1)\n",
    "        for i in range(16):\n",
    "          test+=1\n",
    "          temp+=1\n",
    "     \n",
    "          if score[i]<=threshold:\n",
    "            attack_probability+=1\n",
    "          if temp==288:\n",
    "            result_list.append(attack_probability)\n",
    "            temp=0\n",
    "            attack_probability=0"
   ]
  },
  {
   "cell_type": "code",
   "execution_count": 48,
   "id": "242cdc66",
   "metadata": {},
   "outputs": [
    {
     "name": "stdout",
     "output_type": "stream",
     "text": [
      "SAA results\n",
      "\n",
      "Victim          Suspect         Ground Truth    Used Dataset    Attack Prob.    Copy Detection (%)\n",
      "CIFAR10         CIFAR10         Stolen          10              0.31            0              \n",
      "CIFAR10         CIFAR10         Stolen          30              0.07            0              \n",
      "CIFAR10         CIFAR10         Stolen          50              0.98            100            \n",
      "CIFAR10         CIFAR10         Stolen          70              0.88            100            \n",
      "CIFAR10         CIFAR10         Stolen          90              0.99            100            \n"
     ]
    }
   ],
   "source": [
    "print(\"SAA results\\n\")\n",
    "print('{:<15} {:<15} {:<15} {:<15} {:<15} {:<15}'.format(\"Victim\",\"Suspect\", \"Ground Truth\",\"Used Dataset\",\"Attack Prob.\",\"Copy Detection (%)\"))\n",
    "data_percentage = [\"10\", \"30\",\"50\",\"70\",\"90\"]\n",
    "for i in range(5):\n",
    "    print('{:<15} {:<15} {:<15} {:<15} {:<15} {:<15}'.format('CIFAR10','CIFAR10', \"Stolen\", data_percentage[i],round(result_list[i]/288,2), 100 if result_list[i] >=144 else 0 ))\n"
   ]
  },
  {
   "cell_type": "code",
   "execution_count": 49,
   "id": "841144ee",
   "metadata": {},
   "outputs": [],
   "source": [
    "#TLA"
   ]
  },
  {
   "cell_type": "code",
   "execution_count": 50,
   "id": "cb942019",
   "metadata": {},
   "outputs": [],
   "source": [
    "dataset = dset.ImageFolder(root=DeepTaster_forder +'images/attack_models/TLA',\n",
    "                            transform=transforms.Compose([\n",
    "                                transforms.Grayscale(),\n",
    "                                transforms.Resize(28),      \n",
    "                                transforms.CenterCrop(28), \n",
    "                                transforms.ToTensor(),    \n",
    "                            ]))\n",
    "\n",
    "test_dataloader = torch.utils.data.DataLoader(dataset,\n",
    "                                          batch_size=16,\n",
    "                                          shuffle=False,\n",
    "                                          num_workers=8)"
   ]
  },
  {
   "cell_type": "code",
   "execution_count": 51,
   "id": "943ad90e",
   "metadata": {},
   "outputs": [],
   "source": [
    "net.eval()\n",
    "temp=0\n",
    "test=0\n",
    "attack_probability=0\n",
    "result_list = []\n",
    "with torch.no_grad():\n",
    "    for x, y in test_dataloader:\n",
    "        x = x.float().to(device)\n",
    "        z = net(x)\n",
    "        score = torch.sum((z - c) ** 2, dim=1)\n",
    "        for i in range(16):\n",
    "          test+=1\n",
    "          temp+=1\n",
    "     \n",
    "          if score[i]<=threshold:\n",
    "            attack_probability+=1\n",
    "          if temp==288:\n",
    "            result_list.append(attack_probability)\n",
    "            temp=0\n",
    "            attack_probability=0"
   ]
  },
  {
   "cell_type": "code",
   "execution_count": 52,
   "id": "7a7bcfe9",
   "metadata": {},
   "outputs": [
    {
     "name": "stdout",
     "output_type": "stream",
     "text": [
      "TLA results\n",
      "\n",
      "Suspect            Ground Truth    Epochs          Model Acc.      Attack Prob.    Copy Detection (%)\n",
      "CIFAR10 to MNIST   Stolen          2               97.8            0.93            100            \n",
      "CIFAR10 to MNIST   Stolen          4               98.31           0.94            100            \n",
      "CIFAR10 to MNIST   Stolen          6               98.42           0.97            100            \n",
      "CIFAR10 to MNIST   Stolen          8               98.56           0.92            100            \n"
     ]
    }
   ],
   "source": [
    "print(\"TLA results\\n\")\n",
    "print('{:<18} {:<15} {:<15} {:<15} {:<15} {:<15}'.format(\"Suspect\", \"Ground Truth\",\"Epochs\",\"Model Acc.\",\"Attack Prob.\",\"Copy Detection (%)\"))\n",
    "data_percentage = [\"2\",\"4\",\"6\",\"8\"]\n",
    "for i in range(4):\n",
    "    acc_file=open(Home_directory + '/DeepTaster4/models/attack_model/TLA/Transfer_'+data_percentage[i]+'.txt','r')\n",
    "    acc=float(acc_file.readline()[7:13])*100\n",
    "    acc_file.close()\n",
    "    print('{:<18} {:<15} {:<15} {:<15} {:<15} {:<15}'.format('CIFAR10 to MNIST', \"Stolen\", data_percentage[i],round(acc,2),round(result_list[i]/288,2), 100 if result_list[i] >=144 else 0 ))\n"
   ]
  },
  {
   "cell_type": "code",
   "execution_count": 53,
   "id": "ce3657b1",
   "metadata": {},
   "outputs": [],
   "source": [
    "#MFA"
   ]
  },
  {
   "cell_type": "code",
   "execution_count": 54,
   "id": "1d602486",
   "metadata": {},
   "outputs": [],
   "source": [
    "dataset = dset.ImageFolder(root=DeepTaster_forder +'images/attack_models/MFA',\n",
    "                            transform=transforms.Compose([\n",
    "                                transforms.Grayscale(),\n",
    "                                transforms.Resize(28),      \n",
    "                                transforms.CenterCrop(28), \n",
    "                                transforms.ToTensor(),    \n",
    "                            ]))\n",
    "\n",
    "test_dataloader = torch.utils.data.DataLoader(dataset,\n",
    "                                          batch_size=16,\n",
    "                                          shuffle=False,\n",
    "                                          num_workers=8)"
   ]
  },
  {
   "cell_type": "code",
   "execution_count": 55,
   "id": "43669344",
   "metadata": {},
   "outputs": [],
   "source": [
    "net.eval()\n",
    "temp=0\n",
    "test=0\n",
    "attack_probability=0\n",
    "result_list = []\n",
    "with torch.no_grad():\n",
    "    for x, y in test_dataloader:\n",
    "        x = x.float().to(device)\n",
    "        z = net(x)\n",
    "        score = torch.sum((z - c) ** 2, dim=1)\n",
    "        for i in range(16):\n",
    "          test+=1\n",
    "          temp+=1\n",
    "     \n",
    "          if score[i]<=threshold:\n",
    "            attack_probability+=1\n",
    "          if temp==288:\n",
    "            result_list.append(attack_probability)\n",
    "            temp=0\n",
    "            attack_probability=0"
   ]
  },
  {
   "cell_type": "code",
   "execution_count": 56,
   "id": "d8534bdd",
   "metadata": {},
   "outputs": [
    {
     "name": "stdout",
     "output_type": "stream",
     "text": [
      "MFA results\n",
      "\n",
      "Suspect         Ground Truth    Used Dataset    Model Acc.      Attack Prob.    Copy Detection (%)\n",
      "CIFAR10         Stolen          500             74.16           1.0             100            \n",
      "CIFAR10         Stolen          1000            74.3            0.99            100            \n",
      "CIFAR10         Stolen          2500            74.57           0.99            100            \n",
      "MNIST           Benign          500             99.45           0.0             100            \n",
      "MNIST           Benign          1000            99.45           0.0             100            \n",
      "MNIST           Benign          2500            99.46           0.0             100            \n"
     ]
    }
   ],
   "source": [
    "print(\"MFA results\\n\")\n",
    "print('{:<15} {:<15} {:<15} {:<15} {:<15} {:<15}'.format(\"Suspect\", \"Ground Truth\",\"Used Dataset\",\"Model Acc.\",\"Attack Prob.\",\"Copy Detection (%)\"))\n",
    "data_percentage = [ \"500\",\"1000\",\"2500\"]\n",
    "for i in range(3):\n",
    "    acc_file=open(Home_directory + '/DeepTaster4/models/attack_model/MFA/Finetuning_'+data_percentage[i]+'.txt','r')\n",
    "    acc=float(acc_file.readline()[7:13])*100\n",
    "    acc_file.close()\n",
    "    print('{:<15} {:<15} {:<15} {:<15} {:<15} {:<15}'.format('CIFAR10', \"Stolen\", data_percentage[i],round(acc,2),round(result_list[i]/288,2), 100 if result_list[i] >=144 else 0 ))\n",
    "for i in range(3,6):\n",
    "    acc_file=open(Home_directory + '/DeepTaster4/models/attack_model/MFA/MNIST_Finetuning_'+data_percentage[i-4]+'.txt','r')\n",
    "    acc=float(acc_file.readline()[7:13])*100\n",
    "    acc_file.close()\n",
    "    print('{:<15} {:<15} {:<15} {:<15} {:<15} {:<15}'.format('MNIST', \"Benign\", data_percentage[i-3],round(acc,2),round(result_list[i]/288,2), 100 if result_list[i] <144 else 0 ))\n"
   ]
  },
  {
   "cell_type": "code",
   "execution_count": null,
   "id": "ebd7cb9d",
   "metadata": {},
   "outputs": [],
   "source": [
    "#MPA"
   ]
  },
  {
   "cell_type": "code",
   "execution_count": 57,
   "id": "462d1280",
   "metadata": {},
   "outputs": [],
   "source": [
    "dataset = dset.ImageFolder(root=DeepTaster_forder +'images/attack_models/MPA',\n",
    "                            transform=transforms.Compose([\n",
    "                                transforms.Grayscale(),\n",
    "                                transforms.Resize(28),      \n",
    "                                transforms.CenterCrop(28), \n",
    "                                transforms.ToTensor(),    \n",
    "                            ]))\n",
    "\n",
    "test_dataloader = torch.utils.data.DataLoader(dataset,\n",
    "                                          batch_size=16,\n",
    "                                          shuffle=False,\n",
    "                                          num_workers=8)"
   ]
  },
  {
   "cell_type": "code",
   "execution_count": 58,
   "id": "de78de22",
   "metadata": {},
   "outputs": [],
   "source": [
    "net.eval()\n",
    "temp=0\n",
    "test=0\n",
    "attack_probability=0\n",
    "result_list = []\n",
    "with torch.no_grad():\n",
    "    for x, y in test_dataloader:\n",
    "        x = x.float().to(device)\n",
    "        z = net(x)\n",
    "        score = torch.sum((z - c) ** 2, dim=1)\n",
    "        for i in range(16):\n",
    "          test+=1\n",
    "          temp+=1\n",
    "     \n",
    "          if score[i]<=threshold:\n",
    "            attack_probability+=1\n",
    "          if temp==288:\n",
    "            result_list.append(attack_probability)\n",
    "            temp=0\n",
    "            attack_probability=0"
   ]
  },
  {
   "cell_type": "code",
   "execution_count": 59,
   "id": "14c053f3",
   "metadata": {},
   "outputs": [
    {
     "name": "stdout",
     "output_type": "stream",
     "text": [
      "MPA results\n",
      "\n",
      "Suspect         Ground Truth    Pruned (%)      Model Acc.      Attack Prob.    Copy Detection (%)\n",
      "CIFAR10         Stolen          20              70.53           1.0             100            \n",
      "CIFAR10         Stolen          40              57.96           0.99            100            \n",
      "CIFAR10         Stolen          60              37.01           1.0             100            \n",
      "MNIST           Benign          20              98.5            0.05            100            \n",
      "MNIST           Benign          40              87.47           0.11            100            \n",
      "MNIST           Benign          60              43.15           0.0             100            \n"
     ]
    }
   ],
   "source": [
    "print(\"MPA results\\n\")\n",
    "print('{:<15} {:<15} {:<15} {:<15} {:<15} {:<15}'.format(\"Suspect\", \"Ground Truth\",\"Pruned (%)\",\"Model Acc.\",\"Attack Prob.\",\"Copy Detection (%)\"))\n",
    "data_percentage = [\"20\", \"40\",\"60\"]\n",
    "for i in range(3,6):\n",
    "    acc_file=open(Home_directory + '/DeepTaster4/models/attack_model/MPA/Prune_'+data_percentage[i-3]+'.txt','r')\n",
    "    acc=float(acc_file.readline()[7:13])*100\n",
    "    acc_file.close()\n",
    "    print('{:<15} {:<15} {:<15} {:<15} {:<15} {:<15}'.format('CIFAR10', \"Stolen\", data_percentage[i-3],round(acc,2),round(result_list[i]/288,2), 100 if result_list[i]  >=144 else 0 ))\n",
    "for i in range(3):\n",
    "    acc_file=open(Home_directory + '/DeepTaster4/models/attack_model/MPA/MNIST_Prune_'+data_percentage[i]+'.txt','r')\n",
    "    acc=float(acc_file.readline()[7:13])*100\n",
    "    acc_file.close()\n",
    "    print('{:<15} {:<15} {:<15} {:<15} {:<15} {:<15}'.format('MNIST', \"Benign\", data_percentage[i],round(acc,2),round(result_list[i]/288,2), 100 if result_list[i] <144 else 0 ))\n"
   ]
  },
  {
   "cell_type": "code",
   "execution_count": null,
   "id": "c9530691",
   "metadata": {},
   "outputs": [],
   "source": [
    "#DATLA"
   ]
  },
  {
   "cell_type": "code",
   "execution_count": 60,
   "id": "78a86e36",
   "metadata": {},
   "outputs": [],
   "source": [
    "dataset = dset.ImageFolder(root=DeepTaster_forder +'images/attack_models/DATLA',\n",
    "                            transform=transforms.Compose([\n",
    "                                transforms.Grayscale(),\n",
    "                                transforms.Resize(28),      \n",
    "                                transforms.CenterCrop(28), \n",
    "                                transforms.ToTensor(),    \n",
    "                            ]))\n",
    "\n",
    "test_dataloader = torch.utils.data.DataLoader(dataset,\n",
    "                                          batch_size=16,\n",
    "                                          shuffle=False,\n",
    "                                          num_workers=8)"
   ]
  },
  {
   "cell_type": "code",
   "execution_count": 61,
   "id": "68e40442",
   "metadata": {},
   "outputs": [],
   "source": [
    "net.eval()\n",
    "temp=0\n",
    "test=0\n",
    "attack_probability=0\n",
    "result_list = []\n",
    "with torch.no_grad():\n",
    "    for x, y in test_dataloader:\n",
    "        x = x.float().to(device)\n",
    "        z = net(x)\n",
    "        score = torch.sum((z - c) ** 2, dim=1)\n",
    "        for i in range(16):\n",
    "          test+=1\n",
    "          temp+=1\n",
    "     \n",
    "          if score[i]<=threshold:\n",
    "            attack_probability+=1\n",
    "          if temp==288:\n",
    "            result_list.append(attack_probability)\n",
    "            temp=0\n",
    "            attack_probability=0"
   ]
  },
  {
   "cell_type": "code",
   "execution_count": 62,
   "id": "8697ba33",
   "metadata": {},
   "outputs": [
    {
     "name": "stdout",
     "output_type": "stream",
     "text": [
      "{'DATLA_100': 0, 'DATLA_20': 1, 'DATLA_40': 2, 'DATLA_60': 3, 'DATLA_80': 4}\n"
     ]
    }
   ],
   "source": [
    "print(dataset.class_to_idx)"
   ]
  },
  {
   "cell_type": "code",
   "execution_count": 63,
   "id": "80943d82",
   "metadata": {},
   "outputs": [
    {
     "name": "stdout",
     "output_type": "stream",
     "text": [
      "DATLA results\n",
      "\n",
      "Suspect         Ground Truth    Epochs          Model Acc.      Attack Prob.    Copy Detection (%)\n",
      "CIFAR10         Stolen          20              71.31           1.0             100            \n",
      "CIFAR10         Stolen          40              72.04           1.0             100            \n",
      "CIFAR10         Stolen          60              71.53           1.0             100            \n",
      "CIFAR10         Stolen          80              71.98           1.0             100            \n",
      "CIFAR10         Stolen          100             71.95           1.0             100            \n"
     ]
    }
   ],
   "source": [
    "print(\"DATLA results\\n\")\n",
    "print('{:<15} {:<15} {:<15} {:<15} {:<15} {:<15}'.format(\"Suspect\", \"Ground Truth\",\"Epochs\",\"Model Acc.\",\"Attack Prob.\",\"Copy Detection (%)\"))\n",
    "epochs = [\"100\",\"20\",\"40\",\"60\",\"80\"]\n",
    "for i in [1,2,3,4,0]:\n",
    "    acc_file=open(Home_directory + '/DeepTaster4/models/attack_model/DATLA/DATLA_'+epochs[i]+'.txt','r')\n",
    "    acc=float(acc_file.readline()[7:13])*100\n",
    "    acc_file.close()\n",
    "    print('{:<15} {:<15} {:<15} {:<15} {:<15} {:<15}'.format('CIFAR10', \"Stolen\", epochs[i],round(acc,2),round(result_list[i]/288,2), 100 if result_list[i] >=144 else 0 ))"
   ]
  },
  {
   "cell_type": "code",
   "execution_count": null,
   "id": "4b507e78",
   "metadata": {},
   "outputs": [],
   "source": [
    "#TLPA"
   ]
  },
  {
   "cell_type": "code",
   "execution_count": 64,
   "id": "acb3e4d6",
   "metadata": {},
   "outputs": [],
   "source": [
    "dataset = dset.ImageFolder(root=DeepTaster_forder +'images/attack_models/TLPA',\n",
    "                            transform=transforms.Compose([\n",
    "                                transforms.Grayscale(),\n",
    "                                transforms.Resize(28),      \n",
    "                                transforms.CenterCrop(28), \n",
    "                                transforms.ToTensor(),    \n",
    "                            ]))\n",
    "\n",
    "test_dataloader = torch.utils.data.DataLoader(dataset,\n",
    "                                          batch_size=16,\n",
    "                                          shuffle=False,\n",
    "                                          num_workers=8)"
   ]
  },
  {
   "cell_type": "code",
   "execution_count": 65,
   "id": "137bf93a",
   "metadata": {},
   "outputs": [],
   "source": [
    "net.eval()\n",
    "temp=0\n",
    "test=0\n",
    "attack_probability=0\n",
    "result_list = []\n",
    "with torch.no_grad():\n",
    "    for x, y in test_dataloader:\n",
    "        x = x.float().to(device)\n",
    "        z = net(x)\n",
    "        score = torch.sum((z - c) ** 2, dim=1)\n",
    "        for i in range(16):\n",
    "          test+=1\n",
    "          temp+=1\n",
    "     \n",
    "          if score[i]<=threshold:\n",
    "            attack_probability+=1\n",
    "          if temp==288:\n",
    "            result_list.append(attack_probability)\n",
    "            temp=0\n",
    "            attack_probability=0"
   ]
  },
  {
   "cell_type": "code",
   "execution_count": 67,
   "id": "69641a13",
   "metadata": {},
   "outputs": [
    {
     "name": "stdout",
     "output_type": "stream",
     "text": [
      "TLPA results\n",
      "\n",
      "Suspect            Ground Truth    Used Dataset    Model Acc.      Attack Prob.    Copy Detection (%)\n",
      "MNIST to CIFAR10   Stolen          10              98.54           1.0             100            \n",
      "MNIST to CIFAR10   Stolen          30              98.14           1.0             100            \n",
      "MNIST to CIFAR10   Stolen          50              98.13           1.0             100            \n",
      "MNIST to CIFAR10   Stolen          70              98.17           1.0             100            \n",
      "MNIST to CIFAR10   Stolen          90              98.59           1.0             100            \n"
     ]
    }
   ],
   "source": [
    "print(\"TLPA results\\n\")\n",
    "print('{:<18} {:<15} {:<15} {:<15} {:<15} {:<15}'.format(\"Suspect\", \"Ground Truth\",\"Used Dataset\",\"Model Acc.\",\"Attack Prob.\",\"Copy Detection (%)\"))\n",
    "epochs = [\"10\", \"30\",\"50\",\"70\",'90']\n",
    "for i in range(5):\n",
    "    acc_file=open(Home_directory + '/DeepTaster4/models/attack_model/TLPA/TLPA_'+epochs[i]+'.txt','r')\n",
    "    acc=float(acc_file.readline()[7:13])*100\n",
    "    acc_file.close()\n",
    "    print('{:<18} {:<15} {:<15} {:<15} {:<15} {:<15}'.format('MNIST to CIFAR10', \"Stolen\", epochs [i],round(acc,2),round(result_list[i]/288,2), 100 if result_list[i] >=144 else 0 ))"
   ]
  },
  {
   "cell_type": "code",
   "execution_count": null,
   "id": "5f75b8cd",
   "metadata": {},
   "outputs": [],
   "source": []
  },
  {
   "cell_type": "code",
   "execution_count": null,
   "id": "e09467ab",
   "metadata": {},
   "outputs": [],
   "source": []
  }
 ],
 "metadata": {
  "kernelspec": {
   "display_name": "Python 3 (ipykernel)",
   "language": "python",
   "name": "python3"
  },
  "language_info": {
   "codemirror_mode": {
    "name": "ipython",
    "version": 3
   },
   "file_extension": ".py",
   "mimetype": "text/x-python",
   "name": "python",
   "nbconvert_exporter": "python",
   "pygments_lexer": "ipython3",
   "version": "3.7.10"
  }
 },
 "nbformat": 4,
 "nbformat_minor": 5
}
