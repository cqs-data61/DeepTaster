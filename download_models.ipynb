{
 "cells": [
  {
   "cell_type": "code",
   "execution_count": 7,
   "id": "dfeee65e",
   "metadata": {},
   "outputs": [
    {
     "name": "stderr",
     "output_type": "stream",
     "text": [
      "Downloading...\n",
      "From (uriginal): https://drive.google.com/uc?id=1LzkNW_jT-RBhGJT74_ywmr6PH4Rcv1cS\n",
      "From (redirected): https://drive.google.com/uc?id=1LzkNW_jT-RBhGJT74_ywmr6PH4Rcv1cS&confirm=t&uuid=91207683-16fa-4758-8fad-229b267faa1b\n",
      "To: /data/seonhye/github/DeepTaster/models.zip\n",
      "100%|███████████████████████████████████████████████████████████████████████████████████████████████████████████████████████████████████████████████████████████████████| 2.31G/2.31G [00:30<00:00, 77.0MB/s]\n"
     ]
    },
    {
     "data": {
      "text/plain": [
       "'./models.zip'"
      ]
     },
     "execution_count": 7,
     "metadata": {},
     "output_type": "execute_result"
    }
   ],
   "source": [
    "import gdown\n",
    "gdown.download('https://drive.google.com/uc?id=1G2PaA4Qea5psSeem8ZLoejQ7NmKO0ICC','./',quiet=False)"
   ]
  },
  {
   "cell_type": "code",
   "execution_count": 9,
   "id": "8a6538c0",
   "metadata": {},
   "outputs": [
    {
     "name": "stdout",
     "output_type": "stream",
     "text": [
      "Archive:  ./models.zip\n",
      "   creating: models/\n",
      "   creating: models/victims/\n",
      "  inflating: models/victims/Cifar10_Densenet161.pt  \n",
      "  inflating: models/victims/Cifar10_Vgg16.pt  \n",
      "  inflating: models/victims/Cifar10_Resnet18.pt  \n",
      "   creating: models/test/\n",
      "  inflating: models/test/Tiny_Densenet161.pt  \n",
      "  inflating: models/test/MNIST_Densenet161.pt  \n",
      "  inflating: models/test/MNIST_Resnet181.pt  \n",
      "  inflating: models/test/Cifar10_Densenet161.pt  \n",
      "  inflating: models/test/Cifar10_Vgg16.pt  \n",
      "  inflating: models/test/Cifar10_Resnet18.pt  \n",
      "  inflating: models/test/Tiny_Vgg16.pt  \n",
      "  inflating: models/test/MNIST_Vgg16.pt  \n",
      "  inflating: models/test/Tiny_Resnet18.pt  \n",
      "  inflating: models/test/MNIST_Resnet18.pt  \n",
      "   creating: models/classifier/\n",
      "  inflating: models/classifier/deepsvdd.pt  \n",
      " extracting: models/classifier/threshold.txt  \n",
      "  inflating: models/classifier/pretrained.pth  \n"
     ]
    },
    {
     "data": {
      "text/plain": [
       "0"
      ]
     },
     "execution_count": 9,
     "metadata": {},
     "output_type": "execute_result"
    }
   ],
   "source": [
    "import os\n",
    "os.system(\"unzip ./models.zip\")"
   ]
  }
 ],
 "metadata": {
  "kernelspec": {
   "display_name": "Python 3 (ipykernel)",
   "language": "python",
   "name": "python3"
  },
  "language_info": {
   "codemirror_mode": {
    "name": "ipython",
    "version": 3
   },
   "file_extension": ".py",
   "mimetype": "text/x-python",
   "name": "python",
   "nbconvert_exporter": "python",
   "pygments_lexer": "ipython3",
   "version": "3.7.10"
  }
 },
 "nbformat": 4,
 "nbformat_minor": 5
}
