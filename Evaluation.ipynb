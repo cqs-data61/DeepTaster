{
 "cells": [
  {
   "cell_type": "code",
   "execution_count": 1,
   "id": "eef3413c",
   "metadata": {},
   "outputs": [
    {
     "name": "stderr",
     "output_type": "stream",
     "text": [
      "/home/seonhye/.local/lib/python3.7/site-packages/requests/__init__.py:104: RequestsDependencyWarning: urllib3 (1.26.13) or chardet (5.1.0)/charset_normalizer (2.0.12) doesn't match a supported version!\n",
      "  RequestsDependencyWarning)\n"
     ]
    }
   ],
   "source": [
    "\"\"\"\n",
    "Evaluation\n",
    "\"\"\"\n",
    "\n",
    "import numpy as np\n",
    "import torch\n",
    "import torch.nn as nn\n",
    "import torch.nn.functional as F\n",
    "from torch.utils import data\n",
    "from torch.utils.data import DataLoader\n",
    "from torchvision import datasets, transforms\n",
    "from sklearn.metrics import roc_auc_score\n",
    "import torchvision.datasets as dset\n",
    "from utils.deepsvdd import DeepSVDD_network, pretrain_autoencoder, TrainerDeepSVDD\n",
    "import os\n"
   ]
  },
  {
   "cell_type": "code",
   "execution_count": 2,
   "id": "ce314bfb",
   "metadata": {},
   "outputs": [],
   "source": [
    "# os.environ['CUDA_LAUNCH_BLOCKING'] = \"1\"\n",
    "# os.environ[\"CUDA_VISIBLE_DEVICES\"] = \"3\""
   ]
  },
  {
   "cell_type": "code",
   "execution_count": 3,
   "id": "8c751e0e",
   "metadata": {},
   "outputs": [],
   "source": [
    "# Specify the cuda setting if you needed\n",
    "device = torch.device('cuda' if torch.cuda.is_available() else 'cpu')"
   ]
  },
  {
   "cell_type": "code",
   "execution_count": 4,
   "id": "0df3a948",
   "metadata": {},
   "outputs": [],
   "source": [
    "# IMPORTANT\n",
    "# PLEASE CHANGE THE VAULUE OF DeepTaster_forder TO THE DEEPTASTER DIRECTORY \n",
    "\n",
    "Home_directory = ''\n",
    "DeepTaster_forder = Home_directory+\"/DeepTaster/\""
   ]
  },
  {
   "cell_type": "code",
   "execution_count": 5,
   "id": "7017488a",
   "metadata": {},
   "outputs": [],
   "source": [
    "\n",
    "dataset = dset.ImageFolder(root=DeepTaster_forder +'images/test',\n",
    "                            transform=transforms.Compose([\n",
    "                                transforms.Grayscale(),\n",
    "                                transforms.Resize(28),      \n",
    "                                transforms.CenterCrop(28), \n",
    "                                transforms.ToTensor(),    \n",
    "                            ]))\n",
    "\n",
    "test_dataloader = torch.utils.data.DataLoader(dataset,\n",
    "                                          batch_size=16,\n",
    "                                          shuffle=False,\n",
    "                                          num_workers=8)"
   ]
  },
  {
   "cell_type": "code",
   "execution_count": 6,
   "id": "5109fbc6",
   "metadata": {},
   "outputs": [],
   "source": [
    "net = DeepSVDD_network().to(device)\n",
    "state_dict = torch.load(DeepTaster_forder +'models/classifier/pretrained.pth')\n",
    "c = torch.Tensor(state_dict['center']).to(device)\n",
    "net=torch.load(DeepTaster_forder +'models/classifier/deepsvdd.pt').to(device)\n",
    "threshold_file=open(DeepTaster_forder +'models/classifier/threshold.txt','r')\n",
    "threshold=float(threshold_file.readline())\n",
    "threshold_file.close()"
   ]
  },
  {
   "cell_type": "code",
   "execution_count": 8,
   "id": "b3449415",
   "metadata": {},
   "outputs": [
    {
     "name": "stdout",
     "output_type": "stream",
     "text": [
      "MAA results\n",
      "\n",
      "Victim          Suspect         Ground Truth    Architecture    Attack Prob.    Copy Detection (%)\n",
      "CIFAR10         CIFAR10         Stolen          DenseNet        0.99            100            \n",
      "CIFAR10         CIFAR10         Stolen          ResNet          1.0             100            \n",
      "CIFAR10         CIFAR10         Stolen          VGG             0.99            100            \n",
      "CIFAR10         MNIST           Benign          DenseNet        0.0             100            \n",
      "CIFAR10         MNIST           Benign          ResNet          0.03            100            \n",
      "CIFAR10         MNIST           Benign          VGG             0.0             100            \n",
      "CIFAR10         Tiny-ImageNet   Benign          DenseNet        0.01            100            \n",
      "CIFAR10         Tiny-ImageNet   Benign          ResNet          0.01            100            \n",
      "CIFAR10         Tiny-ImageNet   Benign          VGG             0.28            100            \n",
      "CIFAR10         ImageNet        Benign          DenseNet        0.05            100            \n",
      "CIFAR10         ImageNet        Benign          ResNet          0.23            100            \n",
      "CIFAR10         ImageNet        Benign          VGG             0.0             100            \n"
     ]
    }
   ],
   "source": [
    "# NOTE THAT THE ORDER OF RESULTS IS THREE CIFAR10 MODELS > THREE MNIST MODELS > THREE TINY-IMAGENET MODELS\n",
    "# GROUND TRUTH RESULTS: STOLEN, STOLEN, STOLEN, BENIGN, BENIGN, BENIGN, BENIGN, BENIGN, BENIGN\n",
    "net.eval()\n",
    "temp=0\n",
    "test=0\n",
    "attack_probability=0\n",
    "result_list = []\n",
    "detection_rate =[]\n",
    "architecture_list = [\"DenseNet\", \"ResNet\",\"VGG\"]\n",
    "dataset = [\"CIFAR10\", \"MNIST\",\"Tiny-ImageNet\",\"ImageNet\"]\n",
    "with torch.no_grad():\n",
    "    for x, y in test_dataloader:\n",
    "        x = x.float().to(device)\n",
    "        z = net(x)\n",
    "        score = torch.sum((z - c) ** 2, dim=1)\n",
    "        for i in range(16):\n",
    "          test+=1\n",
    "          temp+=1\n",
    "     \n",
    "          if score[i]<=threshold:\n",
    "            attack_probability+=1\n",
    "          if temp==288:\n",
    "            result_list.append(attack_probability)\n",
    "            if y[0]==0:\n",
    "                detection_rate.append(100 if attack_probability >=144 else 0)\n",
    "            else:\n",
    "                detection_rate.append(100 if attack_probability < 144 else 0)\n",
    "            temp=0\n",
    "            attack_probability=0\n",
    "\n",
    "print(\"MAA results\\n\")\n",
    "print('{:<15} {:<15} {:<15} {:<15} {:<15} {:<15}'.format(\"Victim\",\"Suspect\", \"Ground Truth\",\"Architecture\",\"Attack Prob.\",\"Copy Detection (%)\"))\n",
    "for i in range(3):\n",
    "    print('{:<15} {:<15} {:<15} {:<15} {:<15} {:<15}'.format(\"CIFAR10\", dataset[int(i/3)], \"Stolen\", architecture_list[i%3],round(result_list[i]/288,2), detection_rate[i] ))\n",
    "for i in range(3,12):\n",
    "    print('{:<15} {:<15} {:<15} {:<15} {:<15} {:<15}'.format(\"CIFAR10\", dataset[int(i/3)], \"Benign\", architecture_list[i%3],round(result_list[i]/288,2), detection_rate[i] ))\n"
   ]
  },
  {
   "cell_type": "code",
   "execution_count": null,
   "id": "8bd8ea5e",
   "metadata": {},
   "outputs": [],
   "source": []
  },
  {
   "cell_type": "code",
   "execution_count": null,
   "id": "b9fb3ee0",
   "metadata": {},
   "outputs": [],
   "source": []
  }
 ],
 "metadata": {
  "kernelspec": {
   "display_name": "Python 3 (ipykernel)",
   "language": "python",
   "name": "python3"
  },
  "language_info": {
   "codemirror_mode": {
    "name": "ipython",
    "version": 3
   },
   "file_extension": ".py",
   "mimetype": "text/x-python",
   "name": "python",
   "nbconvert_exporter": "python",
   "pygments_lexer": "ipython3",
   "version": "3.7.10"
  }
 },
 "nbformat": 4,
 "nbformat_minor": 5
}
