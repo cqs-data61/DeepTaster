{
 "cells": [
  {
   "cell_type": "code",
   "execution_count": null,
   "id": "c46db733",
   "metadata": {},
   "outputs": [],
   "source": [
    "# Runtime is about 3 hours"
   ]
  },
  {
   "cell_type": "code",
   "execution_count": null,
   "id": "2990e1d9",
   "metadata": {},
   "outputs": [],
   "source": [
    "import numpy as np\n",
    "import os\n",
    "import torch\n",
    "import torch.optim as optim\n",
    "import torchvision\n",
    "import torchvision.datasets as datasets\n",
    "import torchvision.transforms as transforms\n",
    "from torch import nn\n",
    "from torch.utils.data import DataLoader, TensorDataset, Dataset, Subset\n",
    "from torch.optim import lr_scheduler\n",
    "from torch.autograd import Variable\n",
    "from torchvision import transforms as T\n",
    "from torchvision.transforms import ToTensor \n",
    "from utils.train import train_model,set_dataset,set_architecture\n",
    "from sklearn.model_selection import StratifiedShuffleSplit"
   ]
  },
  {
   "cell_type": "code",
   "execution_count": null,
   "id": "1f4187ca",
   "metadata": {},
   "outputs": [],
   "source": [
    "device = torch.device('cuda:3' if torch.cuda.is_available() else 'cpu')"
   ]
  },
  {
   "cell_type": "code",
   "execution_count": null,
   "id": "320961b8",
   "metadata": {},
   "outputs": [],
   "source": [
    "transform = transforms.Compose(\n",
    "    [transforms.ToTensor(),\n",
    "     transforms.Normalize((0.5, 0.5, 0.5), (0.5, 0.5, 0.5))])"
   ]
  },
  {
   "cell_type": "code",
   "execution_count": null,
   "id": "f6434496",
   "metadata": {},
   "outputs": [],
   "source": [
    "train_data1 = datasets.CIFAR10(\n",
    "    root = 'data',\n",
    "    train = True,                         \n",
    "    transform = transform, \n",
    "    download = True,            \n",
    ")\n",
    "test_data1 = datasets.CIFAR10(\n",
    "    root = 'data', \n",
    "    train = False, \n",
    "    transform = transform\n",
    ")\n",
    "train_data2 = datasets.CIFAR100(\n",
    "    root = 'data',\n",
    "    train = True,                         \n",
    "    transform = transform, \n",
    "    download = True,            \n",
    ")\n",
    "test_data2 = datasets.CIFAR100(\n",
    "    root = 'data', \n",
    "    train = False, \n",
    "    transform = transform\n",
    ")\n",
    "\n",
    "\n",
    "label_list=[0,8,16,70,22]\n",
    "for i in range(50000):\n",
    "  if train_data2.targets[i] not in label_list:\n",
    "    train_data2.targets[i]=100\n",
    "  if train_data2.targets[i]==0:\n",
    "    train_data2.targets[i]=10\n",
    "  elif train_data2.targets[i]==8:\n",
    "    train_data2.targets[i]=11\n",
    "  elif train_data2.targets[i]==16:\n",
    "    train_data2.targets[i]=12\n",
    "  elif train_data2.targets[i]==70:\n",
    "    train_data2.targets[i]=13\n",
    "  elif train_data2.targets[i]==22:\n",
    "    train_data2.targets[i]=14\n",
    "\n",
    "label_list=[0,8,16,70,22]\n",
    "for i in range(10000):\n",
    "  if test_data2.targets[i] not in label_list:\n",
    "    test_data2.targets[i]=100\n",
    "  if test_data2.targets[i]==0:\n",
    "    test_data2.targets[i]=10\n",
    "  elif test_data2.targets[i]==8:\n",
    "    test_data2.targets[i]=11\n",
    "  elif test_data2.targets[i]==16:\n",
    "    test_data2.targets[i]=12\n",
    "  elif test_data2.targets[i]==70:\n",
    "    test_data2.targets[i]=13\n",
    "  elif test_data2.targets[i]==22:\n",
    "    test_data2.targets[i]=14\n",
    "\n",
    "k=0\n",
    "for i in range(50000):\n",
    "  if train_data2.targets[i]!=100:\n",
    "    if k==0:\n",
    "      sub_data=train_data2.data[i]\n",
    "      sub_data=sub_data.reshape(1,32,32,3)\n",
    "      k=1\n",
    "    else:\n",
    "      sub_data=np.append(sub_data,train_data2.data[i].reshape(1,32,32,3),axis=0)\n",
    "\n",
    "sub_target=[]\n",
    "for i in range(50000):\n",
    "  if train_data2.targets[i]!=100:\n",
    "    sub_target.append(train_data2.targets[i])\n",
    "train_data2.data=sub_data\n",
    "train_data2.targets=sub_target\n",
    "\n",
    "k=0\n",
    "for i in range(10000):\n",
    "  if test_data2.targets[i]!=100:\n",
    "    if k==0:\n",
    "      sub_data=test_data2.data[i]\n",
    "      sub_data=sub_data.reshape(1,32,32,3)\n",
    "      k=1\n",
    "    else:\n",
    "      sub_data=np.append(sub_data,test_data2.data[i].reshape(1,32,32,3),axis=0)\n",
    "sub_target=[]\n",
    "for i in range(10000):\n",
    "  if test_data2.targets[i]!=100:\n",
    "    sub_target.append(test_data2.targets[i])\n",
    "test_data2.data=sub_data\n",
    "test_data2.targets=sub_target"
   ]
  },
  {
   "cell_type": "code",
   "execution_count": null,
   "id": "1aa32ea7",
   "metadata": {},
   "outputs": [],
   "source": [
    "train_data = torch.utils.data.ConcatDataset([train_data1, train_data2])\n",
    "test_data = torch.utils.data.ConcatDataset([test_data1, test_data2])"
   ]
  },
  {
   "cell_type": "code",
   "execution_count": null,
   "id": "fe7447ce",
   "metadata": {},
   "outputs": [],
   "source": [
    "batch_size = 128\n",
    "train_loader = torch.utils.data.DataLoader(\n",
    "                 dataset=train_data,\n",
    "                 batch_size=batch_size,\n",
    "                 shuffle=True)\n",
    "test_loader = torch.utils.data.DataLoader(\n",
    "                dataset=test_data,\n",
    "                batch_size=batch_size,\n",
    "                shuffle=True)"
   ]
  },
  {
   "cell_type": "code",
   "execution_count": null,
   "id": "aedd413d",
   "metadata": {},
   "outputs": [],
   "source": [
    "target_model = set_architecture('Resnet18',device, 15)\n",
    "target_model = target_model.to(device)"
   ]
  },
  {
   "cell_type": "code",
   "execution_count": null,
   "id": "14ae97f7",
   "metadata": {},
   "outputs": [],
   "source": [
    "criterion = nn.CrossEntropyLoss()\n",
    "optimizer_ft = optim.SGD(target_model.parameters(), lr=0.1, momentum=0.9, weight_decay=5e-4)\n",
    "exp_lr_scheduler = lr_scheduler.StepLR(optimizer_ft, step_size=7, gamma=0.1)"
   ]
  },
  {
   "cell_type": "code",
   "execution_count": null,
   "id": "dad9cc34",
   "metadata": {},
   "outputs": [],
   "source": [
    "if not os.path.exists(\"./models/attack_model/DAA\"):\n",
    "    os.makedirs(\"./models/attack_model/DAA\")\n",
    "for epochs in range(2,5):\n",
    "    model, acc = train_model(target_model, criterion, optimizer_ft, exp_lr_scheduler,device, train_loader, test_loader, 20*(epochs+1))\n",
    "    torch.save(model,'./models/attack_model/DAA/DAA_'+str( 20*(epochs+1))+'.pt')\n",
    "    acc_file=open('./models/attack_model/DAA/DAA_'+str( 20*(epochs+1))+'.txt','w')\n",
    "    acc_file.write(str(acc))\n",
    "    acc_file.close()"
   ]
  },
  {
   "cell_type": "code",
   "execution_count": null,
   "id": "92eeb0e6",
   "metadata": {},
   "outputs": [],
   "source": []
  }
 ],
 "metadata": {
  "kernelspec": {
   "display_name": "Python 3 (ipykernel)",
   "language": "python",
   "name": "python3"
  },
  "language_info": {
   "codemirror_mode": {
    "name": "ipython",
    "version": 3
   },
   "file_extension": ".py",
   "mimetype": "text/x-python",
   "name": "python",
   "nbconvert_exporter": "python",
   "pygments_lexer": "ipython3",
   "version": "3.7.10"
  }
 },
 "nbformat": 4,
 "nbformat_minor": 5
}
