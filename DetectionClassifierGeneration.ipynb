{
 "cells": [
  {
   "cell_type": "code",
   "execution_count": null,
   "id": "e7e9e95d",
   "metadata": {},
   "outputs": [],
   "source": [
    "\"\"\"\n",
    "Detection Classifier Generation\n",
    "\"\"\"\n",
    "\n",
    "import os\n",
    "import numpy as np\n",
    "import torch\n",
    "import easydict \n",
    "import random\n",
    "import torch.nn as nn\n",
    "import torch.nn.functional as F\n",
    "import torchvision.datasets as dset\n",
    "from torch.utils.data import DataLoader\n",
    "from torchvision import transforms\n",
    "from utils.deepsvdd import DeepSVDD_network, pretrain_autoencoder, TrainerDeepSVDD\n",
    "from threshold_optimizer import ThresholdOptimizer\n"
   ]
  },
  {
   "cell_type": "code",
   "execution_count": null,
   "id": "f57a57eb",
   "metadata": {},
   "outputs": [],
   "source": [
    "# Specify the cuda setting if you needed\n",
    "os.environ['CUDA_LAUNCH_BLOCKING'] = \"1\"\n",
    "os.environ[\"CUDA_VISIBLE_DEVICES\"] = \"1\"\n"
   ]
  },
  {
   "cell_type": "code",
   "execution_count": null,
   "id": "7ae1501b",
   "metadata": {},
   "outputs": [],
   "source": [
    "# IMPORTANT\n",
    "# PLEASE CHANGE THE VAULUE OF DeepTaster_forder TO THE DEEPTASTER DIRECTORY \n",
    "Home_directory = '/data/seonhye/sorce'\n",
    "DeepTaster_forder = Home_directory+\"/DeepTaster/\""
   ]
  },
  {
   "cell_type": "code",
   "execution_count": null,
   "id": "cc7ee78f",
   "metadata": {},
   "outputs": [],
   "source": [
    "# load train adversarialDFT dataset\n",
    "dataset = dset.ImageFolder(root=DeepTaster_forder +'images/train',\n",
    "                            transform=transforms.Compose([\n",
    "                                transforms.Grayscale(),\n",
    "                                transforms.Resize(28),      \n",
    "                                transforms.CenterCrop(28), \n",
    "                                transforms.ToTensor(),    \n",
    "                            ]))\n",
    "\n",
    "train_dataloader = torch.utils.data.DataLoader(dataset,\n",
    "                                        batch_size=16,\n",
    "                                        shuffle=True,\n",
    "                                        num_workers=8)"
   ]
  },
  {
   "cell_type": "code",
   "execution_count": null,
   "id": "d6a38cd8",
   "metadata": {},
   "outputs": [],
   "source": [
    "# load test adversarialDFT dataset\n",
    "dataset = dset.ImageFolder(root=DeepTaster_forder +'images/val',\n",
    "                            transform=transforms.Compose([\n",
    "                                transforms.Grayscale(),\n",
    "                                transforms.Resize(28),      \n",
    "                                transforms.CenterCrop(28), \n",
    "                                transforms.ToTensor(),    \n",
    "                            ]))\n",
    "\n",
    "val_dataloader = torch.utils.data.DataLoader(dataset,\n",
    "                                        batch_size=16,\n",
    "                                        shuffle=False,\n",
    "                                        num_workers=8)"
   ]
  },
  {
   "cell_type": "code",
   "execution_count": null,
   "id": "774f570c",
   "metadata": {},
   "outputs": [],
   "source": [
    "# Specify the cuda setting if you needed\n",
    "device = torch.device('cuda' if torch.cuda.is_available() else 'cpu')\n",
    "args = easydict.EasyDict({\n",
    "        'num_epochs':3,\n",
    "        'num_epochs_ae':40,\n",
    "        'lr':1e-3,\n",
    "        'lr_ae':1e-3,\n",
    "        'weight_decay':5e-7,\n",
    "        'weight_decay_ae':5e-3,\n",
    "        'lr_milestones':[50],\n",
    "        'batch_size':1024,\n",
    "        'pretrain':True,\n",
    "        'latent_dim':32,\n",
    "        'normal_class':0\n",
    "                })"
   ]
  },
  {
   "cell_type": "code",
   "execution_count": null,
   "id": "eb97d4b0",
   "metadata": {},
   "outputs": [],
   "source": [
    "deep_SVDD = TrainerDeepSVDD(args, train_dataloader,device, DeepTaster_forder +'models/classifier/pretrained.pth')\n",
    "if args.pretrain:\n",
    "    deep_SVDD.pretrain()\n",
    "net = DeepSVDD_network().to(device)\n",
    "state_dict = torch.load(DeepTaster_forder +'models/classifier/pretrained.pth')\n",
    "net.load_state_dict(state_dict['net_dict'])\n",
    "c = torch.Tensor(state_dict['center']).to(device)\n"
   ]
  },
  {
   "cell_type": "code",
   "execution_count": null,
   "id": "a814fdc8",
   "metadata": {},
   "outputs": [],
   "source": [
    "optimizer = torch.optim.Adam(net.parameters(), lr=args.lr,\n",
    "                        weight_decay=args.weight_decay)\n",
    "scheduler = torch.optim.lr_scheduler.MultiStepLR(optimizer, \n",
    "            milestones=args.lr_milestones, gamma=0.1)\n"
   ]
  },
  {
   "cell_type": "code",
   "execution_count": null,
   "id": "a15b0213",
   "metadata": {},
   "outputs": [],
   "source": [
    "net.train()\n",
    "for epoch in range(args.num_epochs):\n",
    "    total_loss = 0\n",
    "    for x, _ in train_dataloader:\n",
    "        x = x.float().to(device)\n",
    "\n",
    "        optimizer.zero_grad()\n",
    "        z = net(x)\n",
    "        loss = torch.mean(torch.sum((z - c) ** 2, dim=1))\n",
    "        loss.backward()\n",
    "        optimizer.step()\n",
    "\n",
    "        total_loss += loss.item()\n",
    "    scheduler.step()\n",
    "    print('Training Deep SVDD... Epoch: {}, Loss: {:.3f}'.format(\n",
    "            epoch+1, total_loss/len(train_dataloader)))\n"
   ]
  },
  {
   "cell_type": "code",
   "execution_count": null,
   "id": "cb1f1f66",
   "metadata": {},
   "outputs": [],
   "source": [
    "scores = []\n",
    "label = []\n",
    "net.eval()\n",
    "with torch.no_grad():\n",
    "    for x, y in val_dataloader:\n",
    "        x = x.float().to(device)\n",
    "        z = net(x)\n",
    "        score = torch.sum((z - c) ** 2, dim=1).cpu()\n",
    "        for i in range(16):\n",
    "            if y[i]==0:\n",
    "                scores.append(score[i])\n",
    "                label.append(0)\n",
    "            else:\n",
    "                scores.append(score[i])\n",
    "                label.append(1)      "
   ]
  },
  {
   "cell_type": "code",
   "execution_count": null,
   "id": "2e7b8170",
   "metadata": {},
   "outputs": [],
   "source": [
    "scores.sort()"
   ]
  },
  {
   "cell_type": "code",
   "execution_count": null,
   "id": "cb07b686",
   "metadata": {},
   "outputs": [],
   "source": [
    "threshold = float(scores[862])"
   ]
  },
  {
   "cell_type": "code",
   "execution_count": null,
   "id": "4954ac9d",
   "metadata": {},
   "outputs": [],
   "source": [
    "print(\"threshold: \", threshold)\n",
    "threshold_file=open(DeepTaster_forder +'models/classifier/threshold.txt','w')\n",
    "threshold_file.write(str(threshold))\n",
    "threshold_file.close()\n",
    "torch.save(net, DeepTaster_forder +'models/classifier/deepsvdd.pt') "
   ]
  },
  {
   "cell_type": "code",
   "execution_count": null,
   "id": "fc3ba282",
   "metadata": {},
   "outputs": [],
   "source": []
  },
  {
   "cell_type": "code",
   "execution_count": null,
   "id": "96722c7e",
   "metadata": {},
   "outputs": [],
   "source": []
  }
 ],
 "metadata": {
  "kernelspec": {
   "display_name": "Python 3 (ipykernel)",
   "language": "python",
   "name": "python3"
  },
  "language_info": {
   "codemirror_mode": {
    "name": "ipython",
    "version": 3
   },
   "file_extension": ".py",
   "mimetype": "text/x-python",
   "name": "python",
   "nbconvert_exporter": "python",
   "pygments_lexer": "ipython3",
   "version": "3.7.10"
  }
 },
 "nbformat": 4,
 "nbformat_minor": 5
}
