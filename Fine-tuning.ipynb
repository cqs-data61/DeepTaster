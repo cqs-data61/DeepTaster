{
 "cells": [
  {
   "cell_type": "code",
   "execution_count": null,
   "id": "276289d5",
   "metadata": {},
   "outputs": [],
   "source": [
    "import numpy as np\n",
    "import os\n",
    "import torch\n",
    "import torch.optim as optim\n",
    "import torchvision\n",
    "import torchvision.datasets as datasets\n",
    "import torchvision.transforms as transforms\n",
    "from torch import nn\n",
    "from torch.utils.data import DataLoader, TensorDataset, Dataset, Subset\n",
    "from sklearn.model_selection import StratifiedShuffleSplit\n",
    "from torch.optim import lr_scheduler\n",
    "from torch.autograd import Variable\n",
    "from torchvision import transforms as T\n",
    "from torchvision.transforms import ToTensor \n",
    "from utils.train import train_model,set_dataset"
   ]
  },
  {
   "cell_type": "code",
   "execution_count": null,
   "id": "017d4e7b",
   "metadata": {},
   "outputs": [],
   "source": [
    "device = torch.device('cuda' if torch.cuda.is_available() else 'cpu')"
   ]
  },
  {
   "cell_type": "code",
   "execution_count": null,
   "id": "08b049a9",
   "metadata": {},
   "outputs": [],
   "source": [
    "target_model = torch.load(\"./models/victims/Cifar10_Resnet18.pt\",map_location='cpu')\n",
    "target_model = target_model.to(device)"
   ]
  },
  {
   "cell_type": "code",
   "execution_count": null,
   "id": "df1eb203",
   "metadata": {},
   "outputs": [],
   "source": [
    "#setting train hyper-parameter\n",
    "criterion = nn.CrossEntropyLoss()\n",
    "optimizer_ft = optim.SGD(target_model.parameters(), lr=0.00005, momentum=0.9, weight_decay=5e-4)\n",
    "exp_lr_scheduler = lr_scheduler.StepLR(optimizer_ft, step_size=7, gamma=0.1)"
   ]
  },
  {
   "cell_type": "code",
   "execution_count": null,
   "id": "5ad65b3c",
   "metadata": {},
   "outputs": [],
   "source": [
    "train_data, test_data, class_num = set_dataset(\"cifar10\")"
   ]
  },
  {
   "cell_type": "code",
   "execution_count": null,
   "id": "206ed558",
   "metadata": {},
   "outputs": [],
   "source": [
    "if not os.path.exists(\"./models/attack_model\"):\n",
    "    os.makedirs(\"./models/attack_model\")\n",
    "for size in [100,500,1000,2500]:\n",
    "    train_len=len(train_data)\n",
    "\n",
    "    sss = StratifiedShuffleSplit(n_splits=1, test_size=size, random_state=7)\n",
    "    indices = list(range(len(train_data)))\n",
    "    y_test= [y for _, y in train_data]\n",
    "\n",
    "    for test_index, val_index in sss.split(indices, y_test):\n",
    "        print(len(val_index), len(test_index))\n",
    "\n",
    "    val_ds = Subset(train_data, val_index)\n",
    "    test_ds = Subset(train_data, test_index)\n",
    "    batch_size = 128\n",
    "    train_loader = torch.utils.data.DataLoader(\n",
    "                     dataset=val_ds,\n",
    "                     batch_size=batch_size,\n",
    "                     shuffle=True)\n",
    "    test_loader = torch.utils.data.DataLoader(\n",
    "                    dataset=test_data,\n",
    "                    batch_size=batch_size,\n",
    "                    shuffle=True)\n",
    "   \n",
    "    model = train_model(target_model, criterion, optimizer_ft, exp_lr_scheduler,device, train_loader, test_loader, 10)\n",
    "    torch.save(model,'./models/attack_model/Finetuning_'+str(size)+'.pt')"
   ]
  },
  {
   "cell_type": "code",
   "execution_count": null,
   "id": "71b4078f",
   "metadata": {},
   "outputs": [],
   "source": []
  }
 ],
 "metadata": {
  "kernelspec": {
   "display_name": "Python 3 (ipykernel)",
   "language": "python",
   "name": "python3"
  },
  "language_info": {
   "codemirror_mode": {
    "name": "ipython",
    "version": 3
   },
   "file_extension": ".py",
   "mimetype": "text/x-python",
   "name": "python",
   "nbconvert_exporter": "python",
   "pygments_lexer": "ipython3",
   "version": "3.7.10"
  }
 },
 "nbformat": 4,
 "nbformat_minor": 5
}
