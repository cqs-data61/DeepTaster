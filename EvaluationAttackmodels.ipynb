{
 "cells": [
  {
   "cell_type": "code",
   "execution_count": null,
   "id": "4cd91228",
   "metadata": {},
   "outputs": [],
   "source": [
    "\"\"\"\n",
    "Evaluation attack models\n",
    "\"\"\"\n",
    "import cv2\n",
    "import os\n",
    "import torch\n",
    "import random\n",
    "import numpy as np\n",
    "import torch.nn as nn\n",
    "import torch.nn.functional as F\n",
    "import foolbox as fb\n",
    "import tensorflow as tf\n",
    "import matplotlib.pyplot as plt\n",
    "import torchvision.datasets as dset\n",
    "from keras.datasets import cifar10\n",
    "from torch.utils import data\n",
    "from torch.utils.data import DataLoader\n",
    "from torchvision import datasets, transforms\n",
    "from sklearn.metrics import roc_auc_score\n",
    "from utils.deepsvdd import DeepSVDD_network, pretrain_autoencoder, TrainerDeepSVDD"
   ]
  },
  {
   "cell_type": "code",
   "execution_count": null,
   "id": "68bedf4c",
   "metadata": {},
   "outputs": [],
   "source": [
    "# IMPORTANT\n",
    "# PLEASE CHANGE THE VAULUE OF DeepTaster_forder TO THE DEEPTASTER DIRECTORY \n",
    "Home_directory = ''\n",
    "DeepTaster_forder = Home_directory+\"/DeepTaster/\""
   ]
  },
  {
   "cell_type": "code",
   "execution_count": null,
   "id": "195f20b4",
   "metadata": {},
   "outputs": [],
   "source": [
    "# # Specify the cuda setting if you needed\n",
    "# os.environ['CUDA_LAUNCH_BLOCKING'] = \"1\"\n",
    "# os.environ[\"CUDA_VISIBLE_DEVICES\"] = \"2\"\n",
    "device = torch.device('cuda' if torch.cuda.is_available() else 'cpu')"
   ]
  },
  {
   "cell_type": "code",
   "execution_count": null,
   "id": "bb718c51",
   "metadata": {},
   "outputs": [],
   "source": [
    "#load dataset\n",
    "(X_train, y_train), (X_test1, y_test1) = cifar10.load_data()\n",
    "y_test1=tf.keras.utils.to_categorical(y_test1)\n",
    "X_test1=X_test1.reshape(10000,3,32,32)\n",
    "X_test1=X_test1/255\n",
    "X_test1=X_test1.astype(np.float32)\n",
    "random.seed(11)\n",
    "random_numbers = np.arange(10000)\n",
    "random.shuffle(random_numbers)\n",
    "X_test1 = X_test1[random_numbers]\n",
    "y_test1= y_test1[random_numbers]"
   ]
  },
  {
   "cell_type": "code",
   "execution_count": null,
   "id": "b8d70b13",
   "metadata": {},
   "outputs": [],
   "source": [
    "if not os.path.exists( Home_directory + '/DeepTaster/images/attack_models'):\n",
    "    os.makedirs(Home_directory + '/DeepTaster/images/attack_models')\n",
    "\n",
    "attack_list = [\"DAA\",\"SAA\",\"TLA\",\"MFA\",\"MPA\",\"DATLA\",\"TLPA\"]\n",
    "for attack in attack_list:\n",
    "    if not os.path.exists( Home_directory + '/DeepTaster/images/attack_models/'+attack):\n",
    "        os.makedirs(Home_directory + '/DeepTaster/images/attack_models/'+attack)\n",
    "    for file in os.listdir(Home_directory + '/DeepTaster/models/attack_model/'+attack):\n",
    "        if file[-2:] !=\"pt\":\n",
    "            continue\n",
    "        \n",
    "        target_model = torch.load(Home_directory + '/DeepTaster/models/attack_model/'+attack+'/'+file,map_location='cpu')\n",
    "        target_model = target_model.to(device)\n",
    "        target_model.eval()\n",
    "        print(file[0:-3])\n",
    "        bounds = (0,255)\n",
    "        fmodel = fb.PyTorchModel(target_model, bounds=bounds)\n",
    "        if not os.path.exists( Home_directory + '/DeepTaster/images/attack_models/'+attack+'/'+file[0:-3]):\n",
    "            os.makedirs( Home_directory + '/DeepTaster/images/attack_models/'+attack+'/'+file[0:-3])\n",
    "        for k in range(9):\n",
    "            X_test=torch.from_numpy(X_test1[0+32*k:32+32*k]).float().to(device)\n",
    "            X_test=F.interpolate(X_test, size=(224, 224), mode='bilinear', align_corners=False)\n",
    "            y_test=[]\n",
    "            for j in range(32):\n",
    "                y_test.append(torch.argmax(target_model(X_test)[j]))\n",
    "            y_test=torch.tensor(y_test).to(device)\n",
    "            adversarial_attack = fb.attacks.FGSM()\n",
    "\n",
    "            raw, clipped, is_adv = adversarial_attack(fmodel,X_test,y_test, epsilons=0.03)\n",
    "\n",
    "            for i in range(32):\n",
    "                plt.figure(num=None, figsize=(2,2), dpi=150)\n",
    "                plt.imshow((clipped[i]-X_test[i]).cpu().permute(1,2,0));\n",
    "                plt.axis('off')\n",
    "                plt.savefig(Home_directory + '/DeepTaster/images/temp'+'/per'+str(i+32*k)+'.jpg', dpi=150,bbox_inches='tight', pad_inches=0)\n",
    "            for i in range(32):\n",
    "                img_c1=cv2.imread(os.path.join(Home_directory + '/DeepTaster/images/temp','per'+str(i+32*k)+'.jpg'), 0)\n",
    "                img_c2 = np.fft.fft2(img_c1)\n",
    "                img_c3 = np.fft.fftshift(img_c2)\n",
    "                cv2.imwrite(os.path.join(Home_directory + '/DeepTaster/images/attack_models',attack,file[0:-3]+'/'+str(i+32*k)+'.jpg'),20*np.log(1+np.abs(img_c3)))"
   ]
  },
  {
   "cell_type": "code",
   "execution_count": null,
   "id": "19e3dcb0",
   "metadata": {},
   "outputs": [],
   "source": []
  },
  {
   "cell_type": "code",
   "execution_count": null,
   "id": "87c2b3cf",
   "metadata": {},
   "outputs": [],
   "source": [
    "net = DeepSVDD_network().to(device)\n",
    "state_dict = torch.load(DeepTaster_forder +'models/classifier/pretrained.pth')\n",
    "c = torch.Tensor(state_dict['center']).to(device)\n",
    "net=torch.load(DeepTaster_forder +'models/classifier/deepsvdd.pt').to(device)\n",
    "threshold_file=open(DeepTaster_forder +'models/classifier/threshold.txt','r')\n",
    "threshold=float(threshold_file.readline())\n",
    "threshold_file.close()"
   ]
  },
  {
   "cell_type": "code",
   "execution_count": null,
   "id": "02ff7aaa",
   "metadata": {},
   "outputs": [],
   "source": [
    "dataset = dset.ImageFolder(root=DeepTaster_forder +'images/attack_models/DAA',\n",
    "                            transform=transforms.Compose([\n",
    "                                transforms.Grayscale(),\n",
    "                                transforms.Resize(28),      \n",
    "                                transforms.CenterCrop(28), \n",
    "                                transforms.ToTensor(),    \n",
    "                            ]))\n",
    "\n",
    "test_dataloader = torch.utils.data.DataLoader(dataset,\n",
    "                                          batch_size=16,\n",
    "                                          shuffle=False,\n",
    "                                          num_workers=8)"
   ]
  },
  {
   "cell_type": "code",
   "execution_count": null,
   "id": "fe33b2d4",
   "metadata": {},
   "outputs": [],
   "source": [
    "net.eval()\n",
    "temp=0\n",
    "test=0\n",
    "attack_probability=0\n",
    "result_list = []\n",
    "with torch.no_grad():\n",
    "    for x, y in test_dataloader:\n",
    "        x = x.float().to(device)\n",
    "        z = net(x)\n",
    "        score = torch.sum((z - c) ** 2, dim=1)\n",
    "        for i in range(16):\n",
    "          test+=1\n",
    "          temp+=1\n",
    "     \n",
    "          if score[i]<=threshold:\n",
    "            attack_probability+=1\n",
    "          if temp==288:\n",
    "            result_list.append(attack_probability)\n",
    "            temp=0\n",
    "            attack_probability=0"
   ]
  },
  {
   "cell_type": "code",
   "execution_count": null,
   "id": "785e4352",
   "metadata": {},
   "outputs": [],
   "source": [
    "print(dataset.class_to_idx)"
   ]
  },
  {
   "cell_type": "code",
   "execution_count": null,
   "id": "fa74bdbd",
   "metadata": {},
   "outputs": [],
   "source": [
    "print(\"DAA results\\n\")\n",
    "print('{:<15} {:<15} {:<15} {:<15} {:<15} {:<15}'.format(\"Suspect\", \"Ground Truth\",\"Epochs\",\"Model Acc.\",\"Attack Prob.\",\"Copy Detection (%)\"))\n",
    "epochs = [\"100\",\"20\",\"40\",\"60\",\"80\"]\n",
    "for i in [1,2,3,4,0]:\n",
    "    acc_file=open(Home_directory + '/DeepTaster/models/attack_model/DAA/DAA_'+epochs[i]+'.txt','r')\n",
    "    acc=float(acc_file.readline()[7:13])*100\n",
    "    acc_file.close()\n",
    "    print('{:<15} {:<15} {:<15} {:<15} {:<15} {:<15}'.format('CIFAR10', \"Stolen\", epochs[i],round(acc,2), round(result_list[i]/288,2), 100 if result_list[i] >=144 else 0 ))\n"
   ]
  },
  {
   "cell_type": "code",
   "execution_count": null,
   "id": "94aa7df3",
   "metadata": {},
   "outputs": [],
   "source": []
  },
  {
   "cell_type": "code",
   "execution_count": null,
   "id": "fb5b87d3",
   "metadata": {},
   "outputs": [],
   "source": [
    "dataset = dset.ImageFolder(root=DeepTaster_forder +'images/attack_models/SAA',\n",
    "                            transform=transforms.Compose([\n",
    "                                transforms.Grayscale(),\n",
    "                                transforms.Resize(28),      \n",
    "                                transforms.CenterCrop(28), \n",
    "                                transforms.ToTensor(),    \n",
    "                            ]))\n",
    "\n",
    "test_dataloader = torch.utils.data.DataLoader(dataset,\n",
    "                                          batch_size=16,\n",
    "                                          shuffle=False,\n",
    "                                          num_workers=8)"
   ]
  },
  {
   "cell_type": "code",
   "execution_count": null,
   "id": "a391b145",
   "metadata": {},
   "outputs": [],
   "source": [
    "net.eval()\n",
    "temp=0\n",
    "test=0\n",
    "attack_probability=0\n",
    "result_list = []\n",
    "with torch.no_grad():\n",
    "    for x, y in test_dataloader:\n",
    "        x = x.float().to(device)\n",
    "        z = net(x)\n",
    "        score = torch.sum((z - c) ** 2, dim=1)\n",
    "        for i in range(16):\n",
    "          test+=1\n",
    "          temp+=1\n",
    "     \n",
    "          if score[i]<=threshold:\n",
    "            attack_probability+=1\n",
    "          if temp==288:\n",
    "            result_list.append(attack_probability)\n",
    "            temp=0\n",
    "            attack_probability=0"
   ]
  },
  {
   "cell_type": "code",
   "execution_count": null,
   "id": "dba38ac3",
   "metadata": {},
   "outputs": [],
   "source": [
    "print(\"SAA results\\n\")\n",
    "print('{:<15} {:<15} {:<15} {:<15} {:<15} {:<15}'.format(\"Victim\",\"Suspect\", \"Ground Truth\",\"Used Dataset\",\"Attack Prob.\",\"Copy Detection (%)\"))\n",
    "data_percentage = [\"10\", \"30\",\"50\",\"70\",\"90\"]\n",
    "for i in range(5):\n",
    "    print('{:<15} {:<15} {:<15} {:<15} {:<15} {:<15}'.format('CIFAR10','CIFAR10', \"Stolen\", data_percentage[i],round(result_list[i]/288,2), 100 if result_list[i] >=144 else 0 ))\n"
   ]
  },
  {
   "cell_type": "code",
   "execution_count": null,
   "id": "8475972e",
   "metadata": {},
   "outputs": [],
   "source": []
  },
  {
   "cell_type": "code",
   "execution_count": null,
   "id": "54d68e9c",
   "metadata": {},
   "outputs": [],
   "source": [
    "dataset = dset.ImageFolder(root=DeepTaster_forder +'images/attack_models/TLA',\n",
    "                            transform=transforms.Compose([\n",
    "                                transforms.Grayscale(),\n",
    "                                transforms.Resize(28),      \n",
    "                                transforms.CenterCrop(28), \n",
    "                                transforms.ToTensor(),    \n",
    "                            ]))\n",
    "\n",
    "test_dataloader = torch.utils.data.DataLoader(dataset,\n",
    "                                          batch_size=16,\n",
    "                                          shuffle=False,\n",
    "                                          num_workers=8)"
   ]
  },
  {
   "cell_type": "code",
   "execution_count": null,
   "id": "aeddd05a",
   "metadata": {},
   "outputs": [],
   "source": [
    "net.eval()\n",
    "temp=0\n",
    "test=0\n",
    "attack_probability=0\n",
    "result_list = []\n",
    "with torch.no_grad():\n",
    "    for x, y in test_dataloader:\n",
    "        x = x.float().to(device)\n",
    "        z = net(x)\n",
    "        score = torch.sum((z - c) ** 2, dim=1)\n",
    "        for i in range(16):\n",
    "          test+=1\n",
    "          temp+=1\n",
    "     \n",
    "          if score[i]<=threshold:\n",
    "            attack_probability+=1\n",
    "          if temp==288:\n",
    "            result_list.append(attack_probability)\n",
    "            temp=0\n",
    "            attack_probability=0"
   ]
  },
  {
   "cell_type": "code",
   "execution_count": null,
   "id": "21d75d64",
   "metadata": {},
   "outputs": [],
   "source": [
    "\n",
    "print(\"TLA results\\n\")\n",
    "print('{:<18} {:<15} {:<15} {:<15} {:<15} {:<15}'.format(\"Suspect\", \"Ground Truth\",\"Epochs\",\"Model Acc.\",\"Attack Prob.\",\"Copy Detection (%)\"))\n",
    "data_percentage = [\"2\",\"4\",\"6\",\"8\"]\n",
    "for i in range(4):\n",
    "    acc_file=open(Home_directory + '/DeepTaster/models/attack_model/TLA/Transfer_'+data_percentage[i]+'.txt','r')\n",
    "    acc=float(acc_file.readline()[7:13])*100\n",
    "    acc_file.close()\n",
    "    print('{:<18} {:<15} {:<15} {:<15} {:<15} {:<15}'.format('CIFAR10 to MNIST', \"Stolen\", data_percentage[i],round(acc,2),round(result_list[i]/288,2), 100 if result_list[i] >=144 else 0 ))\n"
   ]
  },
  {
   "cell_type": "code",
   "execution_count": null,
   "id": "ab585856",
   "metadata": {},
   "outputs": [],
   "source": []
  },
  {
   "cell_type": "code",
   "execution_count": null,
   "id": "85254a2e",
   "metadata": {},
   "outputs": [],
   "source": [
    "dataset = dset.ImageFolder(root=DeepTaster_forder +'images/attack_models/MFA',\n",
    "                            transform=transforms.Compose([\n",
    "                                transforms.Grayscale(),\n",
    "                                transforms.Resize(28),      \n",
    "                                transforms.CenterCrop(28), \n",
    "                                transforms.ToTensor(),    \n",
    "                            ]))\n",
    "\n",
    "test_dataloader = torch.utils.data.DataLoader(dataset,\n",
    "                                          batch_size=16,\n",
    "                                          shuffle=False,\n",
    "                                          num_workers=8)"
   ]
  },
  {
   "cell_type": "code",
   "execution_count": null,
   "id": "83299185",
   "metadata": {},
   "outputs": [],
   "source": [
    "net.eval()\n",
    "temp=0\n",
    "test=0\n",
    "attack_probability=0\n",
    "result_list = []\n",
    "with torch.no_grad():\n",
    "    for x, y in test_dataloader:\n",
    "        x = x.float().to(device)\n",
    "        z = net(x)\n",
    "        score = torch.sum((z - c) ** 2, dim=1)\n",
    "        for i in range(16):\n",
    "          test+=1\n",
    "          temp+=1\n",
    "     \n",
    "          if score[i]<=threshold:\n",
    "            attack_probability+=1\n",
    "          if temp==288:\n",
    "            result_list.append(attack_probability)\n",
    "            temp=0\n",
    "            attack_probability=0"
   ]
  },
  {
   "cell_type": "code",
   "execution_count": null,
   "id": "e4622ad9",
   "metadata": {},
   "outputs": [],
   "source": [
    "print(\"MFA results\\n\")\n",
    "print('{:<15} {:<15} {:<15} {:<15} {:<15} {:<15}'.format(\"Suspect\", \"Ground Truth\",\"Used Dataset\",\"Model Acc.\",\"Attack Prob.\",\"Copy Detection (%)\"))\n",
    "data_percentage = [ \"500\",\"1000\",\"2500\"]\n",
    "for i in range(3):\n",
    "    acc_file=open(Home_directory + '/DeepTaster/models/attack_model/MFA/Finetuning_'+data_percentage[i]+'.txt','r')\n",
    "    acc=float(acc_file.readline()[7:13])*100\n",
    "    acc_file.close()\n",
    "    print('{:<15} {:<15} {:<15} {:<15} {:<15} {:<15}'.format('CIFAR10', \"Stolen\", data_percentage[i],round(acc,2),round(result_list[i]/288,2), 100 if result_list[i] >=144 else 0 ))\n",
    "for i in range(3,6):\n",
    "    acc_file=open(Home_directory + '/DeepTaster/models/attack_model/MFA/MNIST_Finetuning_'+data_percentage[i-4]+'.txt','r')\n",
    "    acc=float(acc_file.readline()[7:13])*100\n",
    "    acc_file.close()\n",
    "    print('{:<15} {:<15} {:<15} {:<15} {:<15} {:<15}'.format('MNIST', \"Benign\", data_percentage[i-3],round(acc,2),round(result_list[i]/288,2), 100 if result_list[i] <144 else 0 ))\n"
   ]
  },
  {
   "cell_type": "code",
   "execution_count": null,
   "id": "46536431",
   "metadata": {},
   "outputs": [],
   "source": []
  },
  {
   "cell_type": "code",
   "execution_count": null,
   "id": "456a303d",
   "metadata": {},
   "outputs": [],
   "source": [
    "dataset = dset.ImageFolder(root=DeepTaster_forder +'images/attack_models/MPA',\n",
    "                            transform=transforms.Compose([\n",
    "                                transforms.Grayscale(),\n",
    "                                transforms.Resize(28),      \n",
    "                                transforms.CenterCrop(28), \n",
    "                                transforms.ToTensor(),    \n",
    "                            ]))\n",
    "\n",
    "test_dataloader = torch.utils.data.DataLoader(dataset,\n",
    "                                          batch_size=16,\n",
    "                                          shuffle=False,\n",
    "                                          num_workers=8)"
   ]
  },
  {
   "cell_type": "code",
   "execution_count": null,
   "id": "cf5e41fa",
   "metadata": {},
   "outputs": [],
   "source": [
    "net.eval()\n",
    "temp=0\n",
    "test=0\n",
    "attack_probability=0\n",
    "result_list = []\n",
    "with torch.no_grad():\n",
    "    for x, y in test_dataloader:\n",
    "        x = x.float().to(device)\n",
    "        z = net(x)\n",
    "        score = torch.sum((z - c) ** 2, dim=1)\n",
    "        for i in range(16):\n",
    "          test+=1\n",
    "          temp+=1\n",
    "     \n",
    "          if score[i]<=threshold:\n",
    "            attack_probability+=1\n",
    "          if temp==288:\n",
    "            result_list.append(attack_probability)\n",
    "            temp=0\n",
    "            attack_probability=0"
   ]
  },
  {
   "cell_type": "code",
   "execution_count": null,
   "id": "2cd6e6ca",
   "metadata": {},
   "outputs": [],
   "source": [
    "print(\"MPA results\\n\")\n",
    "print('{:<15} {:<15} {:<15} {:<15} {:<15} {:<15}'.format(\"Suspect\", \"Ground Truth\",\"Pruned (%)\",\"Model Acc.\",\"Attack Prob.\",\"Copy Detection (%)\"))\n",
    "data_percentage = [\"20\", \"40\",\"60\"]\n",
    "for i in range(3,6):\n",
    "    acc_file=open(Home_directory + '/DeepTaster/models/attack_model/MPA/Prune_'+data_percentage[i-3]+'.txt','r')\n",
    "    acc=float(acc_file.readline()[7:13])*100\n",
    "    acc_file.close()\n",
    "    print('{:<15} {:<15} {:<15} {:<15} {:<15} {:<15}'.format('CIFAR10', \"Stolen\", data_percentage[i-3],round(acc,2),round(result_list[i]/288,2), 100 if result_list[i]  >=144 else 0 ))\n",
    "for i in range(3):\n",
    "    acc_file=open(Home_directory + '/DeepTaster/models/attack_model/MPA/MNIST_Prune_'+data_percentage[i]+'.txt','r')\n",
    "    acc=float(acc_file.readline()[7:13])*100\n",
    "    acc_file.close()\n",
    "    print('{:<15} {:<15} {:<15} {:<15} {:<15} {:<15}'.format('MNIST', \"Benign\", data_percentage[i],round(acc,2),round(result_list[i]/288,2), 100 if result_list[i] <144 else 0 ))\n"
   ]
  },
  {
   "cell_type": "code",
   "execution_count": null,
   "id": "0987645a",
   "metadata": {},
   "outputs": [],
   "source": []
  },
  {
   "cell_type": "code",
   "execution_count": null,
   "id": "5b00692d",
   "metadata": {},
   "outputs": [],
   "source": [
    "dataset = dset.ImageFolder(root=DeepTaster_forder +'images/attack_models/DATLA',\n",
    "                            transform=transforms.Compose([\n",
    "                                transforms.Grayscale(),\n",
    "                                transforms.Resize(28),      \n",
    "                                transforms.CenterCrop(28), \n",
    "                                transforms.ToTensor(),    \n",
    "                            ]))\n",
    "\n",
    "test_dataloader = torch.utils.data.DataLoader(dataset,\n",
    "                                          batch_size=16,\n",
    "                                          shuffle=False,\n",
    "                                          num_workers=8)"
   ]
  },
  {
   "cell_type": "code",
   "execution_count": null,
   "id": "7e00cd7b",
   "metadata": {},
   "outputs": [],
   "source": [
    "net.eval()\n",
    "temp=0\n",
    "test=0\n",
    "attack_probability=0\n",
    "result_list = []\n",
    "with torch.no_grad():\n",
    "    for x, y in test_dataloader:\n",
    "        x = x.float().to(device)\n",
    "        z = net(x)\n",
    "        score = torch.sum((z - c) ** 2, dim=1)\n",
    "        for i in range(16):\n",
    "          test+=1\n",
    "          temp+=1\n",
    "     \n",
    "          if score[i]<=threshold:\n",
    "            attack_probability+=1\n",
    "          if temp==288:\n",
    "            result_list.append(attack_probability)\n",
    "            temp=0\n",
    "            attack_probability=0"
   ]
  },
  {
   "cell_type": "code",
   "execution_count": null,
   "id": "744eb09a",
   "metadata": {},
   "outputs": [],
   "source": [
    "print(dataset.class_to_idx)"
   ]
  },
  {
   "cell_type": "code",
   "execution_count": null,
   "id": "1ce232ba",
   "metadata": {},
   "outputs": [],
   "source": [
    "print(\"DATLA results\\n\")\n",
    "print('{:<15} {:<15} {:<15} {:<15} {:<15} {:<15}'.format(\"Suspect\", \"Ground Truth\",\"Epochs\",\"Model Acc.\",\"Attack Prob.\",\"Copy Detection (%)\"))\n",
    "epochs = [\"100\",\"20\",\"40\",\"60\",\"80\"]\n",
    "for i in [1,2,3,4,0]:\n",
    "    acc_file=open(Home_directory + '/DeepTaster/models/attack_model/DATLA/DATLA_'+epochs[i]+'.txt','r')\n",
    "    acc=float(acc_file.readline()[7:13])*100\n",
    "    acc_file.close()\n",
    "    print('{:<15} {:<15} {:<15} {:<15} {:<15} {:<15}'.format('CIFAR10', \"Stolen\", epochs[i],round(acc,2),round(result_list[i]/288,2), 100 if result_list[i] >=144 else 0 ))"
   ]
  },
  {
   "cell_type": "code",
   "execution_count": null,
   "id": "aa55a190",
   "metadata": {},
   "outputs": [],
   "source": []
  },
  {
   "cell_type": "code",
   "execution_count": null,
   "id": "098ac3da",
   "metadata": {},
   "outputs": [],
   "source": [
    "dataset = dset.ImageFolder(root=DeepTaster_forder +'images/attack_models/TLPA',\n",
    "                            transform=transforms.Compose([\n",
    "                                transforms.Grayscale(),\n",
    "                                transforms.Resize(28),      \n",
    "                                transforms.CenterCrop(28), \n",
    "                                transforms.ToTensor(),    \n",
    "                            ]))\n",
    "\n",
    "test_dataloader = torch.utils.data.DataLoader(dataset,\n",
    "                                          batch_size=16,\n",
    "                                          shuffle=False,\n",
    "                                          num_workers=8)"
   ]
  },
  {
   "cell_type": "code",
   "execution_count": null,
   "id": "325e6944",
   "metadata": {},
   "outputs": [],
   "source": [
    "net.eval()\n",
    "temp=0\n",
    "test=0\n",
    "attack_probability=0\n",
    "result_list = []\n",
    "with torch.no_grad():\n",
    "    for x, y in test_dataloader:\n",
    "        x = x.float().to(device)\n",
    "        z = net(x)\n",
    "        score = torch.sum((z - c) ** 2, dim=1)\n",
    "        for i in range(16):\n",
    "          test+=1\n",
    "          temp+=1\n",
    "     \n",
    "          if score[i]<=threshold:\n",
    "            attack_probability+=1\n",
    "          if temp==288:\n",
    "            result_list.append(attack_probability)\n",
    "            temp=0\n",
    "            attack_probability=0"
   ]
  },
  {
   "cell_type": "code",
   "execution_count": null,
   "id": "92de6a6e",
   "metadata": {},
   "outputs": [],
   "source": [
    "print(\"TLPA results\\n\")\n",
    "print('{:<18} {:<15} {:<15} {:<15} {:<15} {:<15}'.format(\"Suspect\", \"Ground Truth\",\"Used Dataset\",\"Model Acc.\",\"Attack Prob.\",\"Copy Detection (%)\"))\n",
    "epochs = [\"10\", \"30\",\"50\",\"70\",'90']\n",
    "for i in range(5):\n",
    "    acc_file=open(Home_directory + '/DeepTaster/models/attack_model/TLPA/TLPA_'+epochs[i]+'.txt','r')\n",
    "    acc=float(acc_file.readline()[7:13])*100\n",
    "    acc_file.close()\n",
    "    print('{:<18} {:<15} {:<15} {:<15} {:<15} {:<15}'.format('MNIST to CIFAR10', \"Stolen\", epochs [i],round(acc,2),round(result_list[i]/288,2), 100 if result_list[i] >=144 else 0 ))"
   ]
  },
  {
   "cell_type": "code",
   "execution_count": null,
   "id": "ffdbad69",
   "metadata": {},
   "outputs": [],
   "source": []
  },
  {
   "cell_type": "code",
   "execution_count": null,
   "id": "126df544",
   "metadata": {},
   "outputs": [],
   "source": []
  }
 ],
 "metadata": {
  "kernelspec": {
   "display_name": "Python 3 (ipykernel)",
   "language": "python",
   "name": "python3"
  },
  "language_info": {
   "codemirror_mode": {
    "name": "ipython",
    "version": 3
   },
   "file_extension": ".py",
   "mimetype": "text/x-python",
   "name": "python",
   "nbconvert_exporter": "python",
   "pygments_lexer": "ipython3",
   "version": "3.7.10"
  }
 },
 "nbformat": 4,
 "nbformat_minor": 5
}
